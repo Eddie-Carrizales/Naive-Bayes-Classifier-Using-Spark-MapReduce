{
 "cells": [
  {
   "cell_type": "code",
   "execution_count": 0,
   "metadata": {
    "application/vnd.databricks.v1+cell": {
     "cellMetadata": {
      "byteLimit": 2048000,
      "rowLimit": 10000
     },
     "inputWidgets": {},
     "nuid": "baff7421-2a2d-4ec3-a701-699796f93440",
     "showTitle": false,
     "title": ""
    }
   },
   "outputs": [],
   "source": [
    "# Implementing Naive Bayes Classifier using Spark MapReduce"
   ]
  },
  {
   "cell_type": "code",
   "execution_count": 0,
   "metadata": {
    "application/vnd.databricks.v1+cell": {
     "cellMetadata": {
      "byteLimit": 2048000,
      "rowLimit": 10000
     },
     "inputWidgets": {},
     "nuid": "5cf164e2-dbff-4a04-9147-d6b7f64e5d4a",
     "showTitle": false,
     "title": ""
    }
   },
   "outputs": [],
   "source": [
    "import requests\n",
    "import pandas as pd\n",
    "import io\n",
    "# I will perform sentiment analysis on financial data\n",
    "\n",
    "url = \"https://drive.google.com/file/d/1uDCTfXfE7mrvb1U9ta7jzvgWt551H7br/view?usp=sharing\"\n",
    "\n",
    "file_id=url.split('/')[-2]\n",
    "dwn_url='https://drive.google.com/uc?id=' + file_id\n",
    "\n",
    "# Download the CSV file\n",
    "response = requests.get(dwn_url)\n",
    "financial_csv_data = response.content.decode('utf-8')\n",
    "\n",
    "# Replace '\\t' with '\\n' to split lines\n",
    "financial_csv_data = financial_csv_data.replace('\\t', '\\n')"
   ]
  },
  {
   "cell_type": "code",
   "execution_count": 0,
   "metadata": {
    "application/vnd.databricks.v1+cell": {
     "cellMetadata": {
      "byteLimit": 2048000,
      "rowLimit": 10000
     },
     "inputWidgets": {},
     "nuid": "c021af27-ad21-4693-8f09-b9623f1c7f06",
     "showTitle": false,
     "title": ""
    }
   },
   "outputs": [],
   "source": [
    "# Load CSV data into Pandas DataFrame\n",
    "financial_data_df = pd.read_csv(io.StringIO(financial_csv_data))\n",
    "\n",
    "# show full width\n",
    "pd.set_option('display.max_colwidth', None)\n",
    "\n",
    "# Display 10 rows\n",
    "pd.set_option('display.max_rows', 10)"
   ]
  },
  {
   "cell_type": "code",
   "execution_count": 0,
   "metadata": {
    "application/vnd.databricks.v1+cell": {
     "cellMetadata": {
      "byteLimit": 2048000,
      "rowLimit": 10000
     },
     "inputWidgets": {},
     "nuid": "e9620bc8-cf24-48c4-9cd9-15c3de9c90f1",
     "showTitle": false,
     "title": ""
    }
   },
   "outputs": [
    {
     "output_type": "display_data",
     "data": {
      "text/html": [
       "<div>\n",
       "<style scoped>\n",
       "    .dataframe tbody tr th:only-of-type {\n",
       "        vertical-align: middle;\n",
       "    }\n",
       "\n",
       "    .dataframe tbody tr th {\n",
       "        vertical-align: top;\n",
       "    }\n",
       "\n",
       "    .dataframe thead th {\n",
       "        text-align: right;\n",
       "    }\n",
       "</style>\n",
       "<table border=\"1\" class=\"dataframe\">\n",
       "  <thead>\n",
       "    <tr style=\"text-align: right;\">\n",
       "      <th></th>\n",
       "      <th>Sentence</th>\n",
       "      <th>Sentiment</th>\n",
       "    </tr>\n",
       "  </thead>\n",
       "  <tbody>\n",
       "    <tr>\n",
       "      <th>0</th>\n",
       "      <td>The GeoSolutions technology will leverage Benefon 's GPS solutions by providing Location Based Search Technology , a Communities Platform , location relevant multimedia content and a new and powerful commercial model .</td>\n",
       "      <td>positive</td>\n",
       "    </tr>\n",
       "    <tr>\n",
       "      <th>1</th>\n",
       "      <td>$ESI on lows, down $1.50 to $2.50 BK a real possibility</td>\n",
       "      <td>negative</td>\n",
       "    </tr>\n",
       "    <tr>\n",
       "      <th>2</th>\n",
       "      <td>For the last quarter of 2010 , Componenta 's net sales doubled to EUR131m from EUR76m for the same period a year earlier , while it moved to a zero pre-tax profit from a pre-tax loss of EUR7m .</td>\n",
       "      <td>positive</td>\n",
       "    </tr>\n",
       "    <tr>\n",
       "      <th>3</th>\n",
       "      <td>According to the Finnish-Russian Chamber of Commerce , all the major construction companies of Finland are operating in Russia .</td>\n",
       "      <td>neutral</td>\n",
       "    </tr>\n",
       "    <tr>\n",
       "      <th>4</th>\n",
       "      <td>The Swedish buyout firm has sold its remaining 22.4 percent stake , almost eighteen months after taking the company public in Finland .</td>\n",
       "      <td>neutral</td>\n",
       "    </tr>\n",
       "    <tr>\n",
       "      <th>...</th>\n",
       "      <td>...</td>\n",
       "      <td>...</td>\n",
       "    </tr>\n",
       "    <tr>\n",
       "      <th>5837</th>\n",
       "      <td>RISING costs have forced packaging producer Huhtamaki to axe 90 jobs at its Hampshire manufacturing plant .</td>\n",
       "      <td>negative</td>\n",
       "    </tr>\n",
       "    <tr>\n",
       "      <th>5838</th>\n",
       "      <td>Nordic Walking was first used as a summer training method by cross-country skiers .</td>\n",
       "      <td>neutral</td>\n",
       "    </tr>\n",
       "    <tr>\n",
       "      <th>5839</th>\n",
       "      <td>According shipping company Viking Line , the EU decision will have a significant financial impact .</td>\n",
       "      <td>neutral</td>\n",
       "    </tr>\n",
       "    <tr>\n",
       "      <th>5840</th>\n",
       "      <td>In the building and home improvement trade , sales decreased by 22.5 % to EUR 201.4 mn .</td>\n",
       "      <td>neutral</td>\n",
       "    </tr>\n",
       "    <tr>\n",
       "      <th>5841</th>\n",
       "      <td>HELSINKI AFX - KCI Konecranes said it has won an order for four hot metal ladle cranes from Indian steel producer Bhushan Steel and Strips Ltd. .</td>\n",
       "      <td>positive</td>\n",
       "    </tr>\n",
       "  </tbody>\n",
       "</table>\n",
       "<p>5842 rows × 2 columns</p>\n",
       "</div>"
      ]
     },
     "metadata": {
      "application/vnd.databricks.v1+output": {
       "addedWidgets": {},
       "arguments": {},
       "data": "<div>\n<style scoped>\n    .dataframe tbody tr th:only-of-type {\n        vertical-align: middle;\n    }\n\n    .dataframe tbody tr th {\n        vertical-align: top;\n    }\n\n    .dataframe thead th {\n        text-align: right;\n    }\n</style>\n<table border=\"1\" class=\"dataframe\">\n  <thead>\n    <tr style=\"text-align: right;\">\n      <th></th>\n      <th>Sentence</th>\n      <th>Sentiment</th>\n    </tr>\n  </thead>\n  <tbody>\n    <tr>\n      <th>0</th>\n      <td>The GeoSolutions technology will leverage Benefon 's GPS solutions by providing Location Based Search Technology , a Communities Platform , location relevant multimedia content and a new and powerful commercial model .</td>\n      <td>positive</td>\n    </tr>\n    <tr>\n      <th>1</th>\n      <td>$ESI on lows, down $1.50 to $2.50 BK a real possibility</td>\n      <td>negative</td>\n    </tr>\n    <tr>\n      <th>2</th>\n      <td>For the last quarter of 2010 , Componenta 's net sales doubled to EUR131m from EUR76m for the same period a year earlier , while it moved to a zero pre-tax profit from a pre-tax loss of EUR7m .</td>\n      <td>positive</td>\n    </tr>\n    <tr>\n      <th>3</th>\n      <td>According to the Finnish-Russian Chamber of Commerce , all the major construction companies of Finland are operating in Russia .</td>\n      <td>neutral</td>\n    </tr>\n    <tr>\n      <th>4</th>\n      <td>The Swedish buyout firm has sold its remaining 22.4 percent stake , almost eighteen months after taking the company public in Finland .</td>\n      <td>neutral</td>\n    </tr>\n    <tr>\n      <th>...</th>\n      <td>...</td>\n      <td>...</td>\n    </tr>\n    <tr>\n      <th>5837</th>\n      <td>RISING costs have forced packaging producer Huhtamaki to axe 90 jobs at its Hampshire manufacturing plant .</td>\n      <td>negative</td>\n    </tr>\n    <tr>\n      <th>5838</th>\n      <td>Nordic Walking was first used as a summer training method by cross-country skiers .</td>\n      <td>neutral</td>\n    </tr>\n    <tr>\n      <th>5839</th>\n      <td>According shipping company Viking Line , the EU decision will have a significant financial impact .</td>\n      <td>neutral</td>\n    </tr>\n    <tr>\n      <th>5840</th>\n      <td>In the building and home improvement trade , sales decreased by 22.5 % to EUR 201.4 mn .</td>\n      <td>neutral</td>\n    </tr>\n    <tr>\n      <th>5841</th>\n      <td>HELSINKI AFX - KCI Konecranes said it has won an order for four hot metal ladle cranes from Indian steel producer Bhushan Steel and Strips Ltd. .</td>\n      <td>positive</td>\n    </tr>\n  </tbody>\n</table>\n<p>5842 rows × 2 columns</p>\n</div>",
       "datasetInfos": [],
       "metadata": {},
       "removedWidgets": [],
       "textData": null,
       "type": "htmlSandbox"
      }
     },
     "output_type": "display_data"
    }
   ],
   "source": [
    "# show the dataframe\n",
    "financial_data_df"
   ]
  },
  {
   "cell_type": "code",
   "execution_count": 0,
   "metadata": {
    "application/vnd.databricks.v1+cell": {
     "cellMetadata": {
      "byteLimit": 2048000,
      "rowLimit": 10000
     },
     "inputWidgets": {},
     "nuid": "7486f71f-54ac-49ab-8348-2ad44e8f47c4",
     "showTitle": false,
     "title": ""
    }
   },
   "outputs": [
    {
     "output_type": "stream",
     "name": "stdout",
     "output_type": "stream",
     "text": [
      "[Row(Sentence=\"The GeoSolutions technology will leverage Benefon 's GPS solutions by providing Location Based Search Technology , a Communities Platform , location relevant multimedia content and a new and powerful commercial model .\", Sentiment='positive')]\n"
     ]
    }
   ],
   "source": [
    "# Convert to spark dataframe\n",
    "spark_df = spark.createDataFrame(financial_data_df)\n",
    "\n",
    "# Convert Spark DataFrame to RDD\n",
    "financial_data_rdd = spark_df.rdd\n",
    "print(financial_data_rdd.take(1))"
   ]
  },
  {
   "cell_type": "code",
   "execution_count": 0,
   "metadata": {
    "application/vnd.databricks.v1+cell": {
     "cellMetadata": {
      "byteLimit": 2048000,
      "rowLimit": 10000
     },
     "inputWidgets": {},
     "nuid": "5f0531e9-98b8-4c9f-9062-3122f0a366bc",
     "showTitle": false,
     "title": ""
    }
   },
   "outputs": [
    {
     "output_type": "stream",
     "name": "stdout",
     "output_type": "stream",
     "text": [
      "[(['geosolutions', 'technology', 'leverage', 'benefon', 'gps', 'solutions', 'providing', 'location', 'based', 'search', 'technology', 'communities', 'platform', 'location', 'relevant', 'multimedia', 'content', 'new', 'powerful', 'commercial', 'model'], 'positive')]\n"
     ]
    },
    {
     "output_type": "stream",
     "name": "stderr",
     "output_type": "stream",
     "text": [
      "[nltk_data] Downloading package punkt to /root/nltk_data...\n[nltk_data]   Package punkt is already up-to-date!\n[nltk_data] Downloading package stopwords to /root/nltk_data...\n[nltk_data]   Package stopwords is already up-to-date!\n"
     ]
    }
   ],
   "source": [
    "# 1. Data Preprocessing: The first step would involve pre-processing a large text corpus of your choice using PySpark. This would involve steps such as tokenization, stemming, stop word removal. Remember to use a dataset that corresponds to classification problem.\n",
    "\n",
    "import nltk\n",
    "from nltk.corpus import stopwords\n",
    "from nltk.tokenize import word_tokenize\n",
    "from nltk.stem import PorterStemmer\n",
    "import re\n",
    "\n",
    "# Download NLTK resources if not already downloaded\n",
    "nltk.download('punkt')\n",
    "nltk.download('stopwords')\n",
    "\n",
    "# Initialize the PorterStemmer\n",
    "stemmer = PorterStemmer()\n",
    "\n",
    "# get english stop words\n",
    "stop_words = set(stopwords.words(\"english\"))\n",
    "\n",
    "# list of punctuation characters to remove\n",
    "numeric_pattern = re.compile(r'^[0-9]+$')\n",
    "\n",
    "def pre_process_sentence(sentence):\n",
    "    # strip sentence\n",
    "    sentence = sentence.strip()\n",
    "\n",
    "    # Remove punctuation and non-word characters\n",
    "    sentence = re.sub(r'[^\\w\\s]', '', sentence)\n",
    "\n",
    "    # tokenize the sentence\n",
    "    tokens = word_tokenize(sentence)\n",
    "\n",
    "    # stemming (reducing word to their root base) and removing english stop words\n",
    "    filtered_tokens = []\n",
    "    # Iterate over each word in the tokens list\n",
    "    for word in tokens:\n",
    "      # filter out numbers\n",
    "      if not numeric_pattern.match(word):\n",
    "        # stemming word\n",
    "        lowercase_word = word.lower()\n",
    "        #stemmed_word = stemmer.stem(lowercase_word) # commented because hurting accuracy\n",
    "\n",
    "        # Convert the word to lowercase and check if it's not in the stop_words set\n",
    "        if lowercase_word not in stop_words:\n",
    "            # If the word passes the condition, include it in the filtered_tokens list\n",
    "            filtered_tokens.append(lowercase_word)\n",
    "    return filtered_tokens\n",
    "\n",
    "financial_data_rdd = financial_data_rdd.map(lambda x: (pre_process_sentence(x[0]), x[1]))\n",
    "\n",
    "print(financial_data_rdd.take(1))"
   ]
  },
  {
   "cell_type": "code",
   "execution_count": 0,
   "metadata": {
    "application/vnd.databricks.v1+cell": {
     "cellMetadata": {
      "byteLimit": 2048000,
      "rowLimit": 10000
     },
     "inputWidgets": {},
     "nuid": "5f41e194-61f5-4b00-8961-3631042f908a",
     "showTitle": false,
     "title": ""
    }
   },
   "outputs": [
    {
     "output_type": "stream",
     "name": "stdout",
     "output_type": "stream",
     "text": [
      "[(['last', 'quarter', 'componenta', 'net', 'sales', 'doubled', 'eur131m', 'eur76m', 'period', 'year', 'earlier', 'moved', 'zero', 'pretax', 'profit', 'pretax', 'loss', 'eur7m'], 'positive')]\n\n[(['geosolutions', 'technology', 'leverage', 'benefon', 'gps', 'solutions', 'providing', 'location', 'based', 'search', 'technology', 'communities', 'platform', 'location', 'relevant', 'multimedia', 'content', 'new', 'powerful', 'commercial', 'model'], 'positive')]\n"
     ]
    }
   ],
   "source": [
    "#2. Splitting the dataset: Split the preprocessed dataset into a training set and a testing set.\n",
    "training_rdd, testing_rdd = financial_data_rdd.randomSplit([0.8, 0.2]) # 80/20 split\n",
    "print(training_rdd.take(1))\n",
    "print(\"\")\n",
    "print(testing_rdd.take(1))"
   ]
  },
  {
   "cell_type": "code",
   "execution_count": 0,
   "metadata": {
    "application/vnd.databricks.v1+cell": {
     "cellMetadata": {
      "byteLimit": 2048000,
      "rowLimit": 10000
     },
     "inputWidgets": {},
     "nuid": "95b585e4-23fa-43cb-b864-85b5f866f00d",
     "showTitle": false,
     "title": ""
    }
   },
   "outputs": [],
   "source": [
    "#3. Training the Naive Bayes model: Implement the Naive Bayes algorithm in PySpark using MapReduce to train the model on the training set."
   ]
  },
  {
   "cell_type": "code",
   "execution_count": 0,
   "metadata": {
    "application/vnd.databricks.v1+cell": {
     "cellMetadata": {
      "byteLimit": 2048000,
      "rowLimit": 10000
     },
     "inputWidgets": {},
     "nuid": "0e870d3e-68ad-456c-ac63-ae4eb707d1d8",
     "showTitle": false,
     "title": ""
    }
   },
   "outputs": [
    {
     "output_type": "stream",
     "name": "stdout",
     "output_type": "stream",
     "text": [
      "[('neutral', 2521), ('positive', 1477), ('negative', 686)]\n0.5382152006831767\n0.31532877882152005\n0.14645602049530315\n"
     ]
    }
   ],
   "source": [
    "#3a. calculate the probability of each class (i.e the class priors), in other words class / total rows\n",
    "# Get the total count of all rows\n",
    "total_class_count = training_rdd.count()\n",
    "\n",
    "class_priors = training_rdd.map(lambda x: (x[1], 1))\n",
    "class_priors = class_priors.reduceByKey(lambda x, y: x + y)\n",
    "class_priors_collected = class_priors.collect()\n",
    "# print the class priors\n",
    "print(class_priors_collected)\n",
    "\n",
    "negative_class_prior = class_priors_collected[0][1] / total_class_count\n",
    "print(negative_class_prior)\n",
    "\n",
    "positive_class_prior = class_priors_collected[1][1] / total_class_count\n",
    "print(positive_class_prior)\n",
    "\n",
    "neutral_class_prior = class_priors_collected[2][1] / total_class_count\n",
    "print(neutral_class_prior)"
   ]
  },
  {
   "cell_type": "code",
   "execution_count": 0,
   "metadata": {
    "application/vnd.databricks.v1+cell": {
     "cellMetadata": {
      "byteLimit": 2048000,
      "rowLimit": 10000
     },
     "inputWidgets": {},
     "nuid": "3aa05941-2e0d-4bd6-a4f3-3ac9d10e667e",
     "showTitle": false,
     "title": ""
    }
   },
   "outputs": [
    {
     "output_type": "stream",
     "name": "stdout",
     "output_type": "stream",
     "text": [
      "['quarter', 'period', 'remaining', 'months', 'meets', 'corp', 'updates', 'results', 'department', 'store', 'floor', 'space', 'q1', 'adbe', 'nasdaq', 'listed', 'two', 'unnamed', 'water', 'staff', 'depending', 'httpstcofa5cnh2t0t', 'gross', 'olavi', 'work', 'led', 'dutch', 'service', 'assa', 'abloy', 'item', 'eur13', 'stood', 'ton', 'money', 'jump', 'declare', 'invalid', 'tendering', 'investments', 'lagardere', 'result', 'strengthened', 'skogberg', 'improved', 'obtained', 'technology', 'aluminium', 'sintering', 'like', 'generated', 'authorities', 'httpstksco1itr', 'crazy', 'stocks', 'gdx', 'inc', 'r', 'dissolved', 'transferred', 'apriljune', 'bn', 'delight', 'consumers', 'afe1v', 'gazpromshell', 'however', 'ceo', 'tougher', 'bread', 'connection', 'clients', 'performance', 'volumes', 'quality', 'lte', 'start', 'oy', 'production', 'grocer', 'sfo', 'investigation', 'lember', 'matter', 'topical', 'social', 'ministry', 'would', 'a1', 'aspocomp', 'decision', 'layoffs', 'orders', 'smarket', 'markets', 'bavelloni', 'ventures', 'tools', 'produced', 'italy', 'brand', 'using', 'perfect', 'inclusion', 'acquire', 'board', 'manager', 'inaugurated', 'presence', 'nordic', 'tikkurila', 'threemonth', 'dec', 'oyname', 'mammila', 'kellokoski', 'comprising', 'nibbling', 'buying', '13min', 'ferries', 'lulu', 'numbers', 'good', 'instill', 'delivery', 'sastamala', 'italahdenkatu', 'monthly', 'facebook', 'technical', 'february', 'systems', 'free', 'pump', 'immediate', 'dropped', 'lng', 'eght', 'weighted', 'highdensity', 'boards', 'tonnes', 'pa', 'comments', 'kemijñrvi', 'tesla', 'adjusted', 'getting', 'putting', 'provide', 'leading', 'players', 'commission', 'heart', 'bridge', 'cooperation', 'merging', 'fullyear', 'nq', 'avc', '3g', 'send', 'raw', 'antti', 'depressed', 'eur27m', 'nickel', 'locationbased', 'offering', 'current', 'administrators', 'cases', 'poland', 'frame', 'sandwich', 'continues', 'tiein', 'dramatic', 'disclose', 'protalix', 'q4', 'incap', 'reversinglooks', 'rejection', 'process', 'distribution', 'quitting', 'invest', 'upgraded', 'emsa', 'chairman', 'yet', 'john', 'turns', 'amer', 'sunnuntai', 'kesko', 'lost', 'set', 'siemens', 'poyry', 'consulting', 'europe', 'interest', 'hat', 'aussage', 'flagging', 'lung', 'destroyed', 'leasable', 'let', 'tenants', 'ericsson', 'unchanged', 'vat', 'needs', 'economy', 'arrangements', 'ansa', 'lennon', 'external', 'printing', 'iprint', 'vendors', 'westpac', 'banking', 'category', 'microsoft', 'leed', 'far', 'indicate', 'capable', 'pathana', 'subscription', 'developing', 'engineer', 'asda', 'morrisons', 'petrol', 'produce', 'metal', 'pay', 'baxalta', 'rogers', 'pharmaceutical', 'research', 'startups', 'eight', 'maritime', 'ships', 'matters', 'intract', 'telephone', 'invested', 'nonrestricted', 'tower', 'kronor', 'attend', 'adpnews', 'fisas', 'subject', 'combining', 'accessories', 'emissions', 'opportunity', 'counts', 'silver', 'quick', 'tests', 'accumulated', 'dara', 'goods', 'served', 'foods', 'synergies', 'metsabotnia', 'britains', 'analyst', 'asos', 'pearl', 'llc', 'srv', 'michael', 'g', 'newbury', 'figures', 'rbs', 'propulsion', 'januarynovember', 'viiv', 'lcd', 'trader', 'redundant', 'documents', 'ruukki', 'lufthansa', 'finnishowned', 'manufacturer', 'fulfill', 'sulphuric', 'annum', 'ote1v', 'dasan', 'tmtanalyst', 'notification', 'step', 'julius', 'potential', 'wealth', 'companiestravis', 'okmetic', 'generates', 'designated', 'logistics', 'du', 'components', 'prague', 'attempt', 'stores', 'campaigns', 'geo1v', 'developers', 'alphabet', 'weeks', 'texas', '19447574is', 'chikunov', 'proha', 'notes', 'purchases', 'canada', 'gprs', 'idea', 'customer', 'regional', 'sept', 'kilos', 'serve', 'broad', 'households', 'balfour', 'cargo', 'cargotec', 'macgregor', 'lemminkainen', 'toolonlahti', 'mortgage', 'kyro', 'agreements', 'glencore', 'negotiated', 'paychex', 'neomarkka', 'nembv', 'furlough', 'cap', 'interesting', 'holds', 'smartphone', 'locally', 'rivals', 'excentrica', 'believe', 'especially', 'espoo', 'pcln', 'machine', 'african', 'interested', 'execute', 'jimcramer', 'rinkuskiai', 'letter', 'maatta', 'broker', 'opensource', 'check', 'bid', 'deka', 'book', 'micron', 'cramers', 'rental', 'modular', 'advisory', 'showed', 'filipino', 'borealis', 'involves', 'fuel', 'really', 'consortium', 'managed', 'repurchase', 'uruguay', 'transports', 'continued', 'wholesaler', 'faith', 'dandyduct', 'action', 'format', 'oth', 'activation', 'towards', 'offers', 'impressive', 'motorola', 'came', 'sellingshorting', 'realistic', 'treating', 'intake', 'dragged', 'im', 'twtr', 'asset', 'companiesandmarketscom', 'lining', 'bounces', 'glisten', 'trying', 'ulitsa', 'evraz', 'lanebrook', 'loyal', 'àland', 'consultancy', 'length', 'trouble', 'ecb', 'sole', 'subsidiaries', 'wap', 'sectors', 'christmas', 'vashi', 'engine', 'virent', 'catalytic', 'reopen', 'orion', 'skogster', 'positions', 'violated', 'communities', 'guide', 'middle', 'citigroup', 'hardware', 'regarding', 'occupiers', 'millercoors', 'threeyear', 'tyo', 'fio', 'ag', 'drillisch', 'pursue', 'messaging', 'passengers', 'shires', 'tapuli', 'tips', 'macquarie', 'tender', 'fintech', 'alberta', 'threat', 'uponor', 'shop', 'nearby', 'zgody', 'axis', 'primary', 'hyg', 'southfield', 'tune', 'favourable', 'rainbow', 'trout', 'color', 'ntls', 'standards', 'turun', 'installation', 'quarters', 'cba', 'persistently', 'repeat', 'underground', 'shenzhen', 'orange', 'scissors', 'symbol', 'excellent', 'ergonomic', 'surprises', 'tieto', 'absentee', 'restaurant', 'finton', 'cockroft', 'visual', 'eur235', 'ubs', 'sued', 'trigger', 'prospects', 'eijkens', 'utilisation', 'xbox', 'beating', 'httpstcoxvn4bliwpy', 'httpstcothfvwtnrps', 'slaughterhouse', 'pursuit', 'payout', 'alerts', '501percent', 'proposes', 'allshare', 'qualcomm', 'oxyview', 'common', 'puljonki', 'exports', 'kirkkonummi', 'emails', 'enhanced', 'ponten', 'jorgen', 'ilim', 'bratsk', 'demonstrates', 'allure', 'identical', 'sister', 'ramirent', 'distinctive', 'gild', 'httpstcoh9vqxpz15g', 'stages', 'host', 'telecommunications', 'slope', 'slashes', 'veikko', 'scope', 'juhani', 'salonius', 'aldata', 'risk', 'subcontractors', 'worldclass', 'magnetite', 'burgers', 'confirms', 'karppinen', 'insight', 'shock', 'dokumculuk', 'organic', 'httpstcobgvintk43h', 'sami', 'sarkamies', 'cholesterol', 'charge', 'exploring', 'possibility', 'raiguel', 'alloys', 'rautakesko', 'fti', 'cry', 'babies', 'sponsoring', 'skier', 'directionshttpstkscosowg', 'stanley', 'institutions', 'pleased', 'ethernet', 'wilson', 'waiting', 'bar', 'favorite', 'karelia', 'paris', 'eur510m', 'ferry', 'drought', 'resulting', 'characteristics', 'arthritis', 'ra', 'raised', 'apriloctober', 'slashing', 'airways', '33percent', 'rostelecom', 'family', 'compatible', 'ch_roark', 'unxl', 'httpstkscoat3glooks', 'ntt', 'servicing', 'imported', 'tgk10', 'overall', 'reserve', 'initial', 'shipbuilder', 'yard', 'approaches', 'manturovo', 'northeast', 'reception', 'reisholz', 'challenge', 'fleet', 'defends', 'supplies', 'validation', 'mobility', 'marek', 'spouts', 'separated', 'lasse', 'distributes', 'kevin', 'subscriber', 'bavarian', 'latter', 'handheld', 'altr', 'dvd', 'trades', 'indicator', 'fundredemption', 'quito', 'finish', 'redistribution', 'expressly', 'prohibited', 'notably', 'school', 'economics', 'retailed', 'starts', 'pearson', 'introduction', 'returns', 'getinge', '1nvestor', 'cards', 'eb', 'celulose', 'follows', 'card', 'thought', 'yvonne', 'incorporate', 'juha', 'exempted', 'sum', 'dcth', 'earned', 'celtnieciba', 'httpstcobfws3dbm0u', 'highperformance', 'antennas', 'portable', 'fined', 'lion', 'throughput', 'rantanen', 'equalweight', 'eq', '67mn', 'ethibel', 'sustainable', 'corporations', 'ban', 'wallhamn', 'stronger', 'brealout', 'supplying', 'particularly', 'bssoss', 'sticks', 'radomes', 'kilometers', '890us', 'patrick', 'mechanical', 'stan', 'purposes', 'anticipates', 'stuck', 'httpstcowc2qfp79tn', 'bpi', 'boats', 'feedback', 'nike', 'geographical', 'telpak', 'uncommonly', 'notable', 'ooks', 'dipping', 'women', 'hartford', 'proprietary', 'input', 'boomerang', 'niemi', 'q12010', 'jul', 'smith', 'vxx', 'sits', 'sphere', 'garry', 'mcguire', 'library', 'conagra', 'connolly', 'tailormade', 'punishing', 'belgium', 'wayne', 'something', 'alfred', 'ever', 'twenty', 'vaisala', 'intensity', 'flooring', 'suction', 'barleycorn', 'eur50m', 'overhead', 'projections', 'cbd', 'issuance', 'plot', 'papermaking', 'interfaces', 'bye', 'sanitas', 'consulate', 'charges', 'normalises', 'kroon', 'mouth', 'biotie', 'somaxon', 'iiiii', 'analyses', 'storms', 'remotely', 'poh1s', 'handelsbanken', 'novartis', 'ends', 'altimo', 'retirement', 'equilibrium', 'stena', 'multistorey', 'brno', 'preference', 'guard', 'mooring', 'circulation', 'httpstcomhobzu3rmx', 'feel', 'oregon', 'indication', 'policy', 'compagnie', 'etn', 'leadership', 'turnaround', 'httpstcolsahepdqhd', 'bmo', 'latta', 'swung', 'httpstcobmvhcrwrea', 'disaster', 'risks', 'essential', 'pntz', 'teva', 'mara', 'withdraw', 'auto', 'kallioranta', 'talo', 'excellence', 'oldest', 'historic', 'reorganise', 'diagnosed', 'learning', 'rim', 'vaalipalveluservice', 'panels', 'liftaway', 'capacities', 'nonbinding', 'esl', '1lloyds', 'lumberman', 'djia', 'gift', 'snowfall', 'cvx', 'strengthens', 'forwarded', 'unknown', 'pentikñinen', 'issuer', 'qnx', 'bbm', 'matrix', 'eur94m', 'admits', 'incy', 'sek25m', 'yelp', 'forming', 'charlotte', 'surfing', 'radiation', 'nuclear', 'korteniemi', 'salminen', 'kia', 'karhu', 'intentions', 'waves', 'allstarcharts', 'yara', 'toshiba', 'rakvere', 'renatta', 'barges', 'tents', 'tightened', 'comprehensive', '32bn', 'standardsbased', 'trending', 'minn', '2003a', 'processguide', 'modelx', '25mn', 'korean', 'mattila', 'periods', 'dialing', 'studying', 'httpstcosabxcsn8cd', 'tsrandall', 'fibers', 'plastic', 'eur400m', 'cfrazierjr', 'traders', 'aside', 'hectares', 'mikkonen', 'towers', 'burrill', 'raiso', 'broader', 'seikku', 'pietarsaari', 'substantial', 'telgua', 'errors', 'congrats', 'httpstksco2tad', '60percent', 'surgical', 'snag', 'coupled', 'dubna', 'egyptian', 'schools', 'blast', 'schroders', 'depresses', 'tension', 'salaried', 'preprocess', 'eur21', 'tallinnhelisnki', 'readytarget', 'euro13', 'oneoff', 'harkonen', 'constantly', 'signaling', 'coverage', 'cxe', 'successor', 'concentrating', 'decoration', 'heterogenous', 'dmasia16', '2006benefon', 'digitalmediaasiacom', 'httpstkscoa1ix4', 'competitor', 'bjorn', 'competencies', 'nefarious', 'mouse', 'tied', 'suonenjoen', 'cancellation', '1sabmiller', 'cog', 'minister', 'anttila', 'lahden', 'bphs', 'leases', 'newcomers', 'steadily', 'pankki', 'capped', 'guided', 'matching', 'roundtable', 'telekom', 'gainers', 'dillon', 'lions', 'jeans', 'tummy', 'bottles', 'miners', 'beyond', 'gbx10', 'httpstksco3qta', 'opinion', 'rbc', 'cvd', 'enhancing', 'pbs', 'bluecollar', 'groups', 'respiratory', 'airspace', 'recommencing', 'accommodation', 'webmarela', 'innovationsmanagement', 'mbly', 'httpstkscofyco', 'stahlberg', 'avena', 'servers', 'hp', 'cup', 'finds', 'bands', 'haakon', 'comibinations', 'seeks', 'switch', 'pirkka', 'ewbc', 'sndk', 'e20', 'nok16', 'bsx', 'digs', 'kci', 'outdoors', 'selfservice', 'generators', 'partihallsfârbindelsen', 'vsevolozhsk', 'leningrad', 'lifting', 'madoff', 'repair', 'shifted', 'rollsroyce', 'differentiate', 'totally', 'surveyed', 'healthy', 'outflows', 'downgrade', 'loco', 'httpstkscoh0vv8', 'certainly', 'kors', 'abandons', 'nepal', 'billing', 'n79', 'n75', 'traces', 'tetroxide', 'perñmeri', 'fki', 'welcomes', 'dart', '2500passenger', 'admiral', 'prosperous', 'transported', 'topping', 'tail', 'gray', 'novel', 'bleaching', 'liner', 'londonbased', 'joined', 'lye', 'situated', 'agent', 'resin', 'sealed', 'preempt', 'bahrain', 'plates', 'los', 'angeles', 'approvals', 'eventim', 'xerox', 'promotion', 'pullback_time', 'interests', 'realestate', 'young', 'seal', 'jefferies', 'reorganisations', 'ballast', 'geneva', 'resource', 'sanayi', 'clicking', 'careful', 'renews', 'technoparks', 'hitech', 'bags', 'caseus', 'pile', 'fastest', 'smart', 'nke', 'symbianbased', 'traveler', 'cien', 'chrm', 'bonus', '2bn', 'powerless', 'asm', 'och', 'ivrcl', 'wasteburning', 'korpinen', 'midseptember', 'tanqia', 'ownerengineer', 'argus', 'megawatts', 'seatbelt', 'httpstksco1bue', 'fundamentals', 'theres', 'nikkiso', '4britains', 'integrate', 'detected', 'modes', 'multiplayer', 'sixknot', 'anchored', 'lorry', 'ores', 'sek77', 'tutkimuksen', 'tahdet', 'saimaa', 'avi', '12477any', 'kedia', 'strattonite', 'httpstkscoc0su4', 'franc', 'mostar', 'kivimeister', 'justifies', 'eur928', 'titles', 'lnt', 'airvana', '550k', 'firsthalf', 'eur26', 'weert', 'shimano', 'enters', 'httpstcob7izya4bue', 'alteams', 'sepa', 'dj', 'forges', 'leipurin', 'efut', 'edu', 'tomas', 'offsetprinting', '22us', 'httpstkscoo9ny', 'devaluation', 'rimi', 'blindspots', 'out1v', 'recipients', 'volc', 'kalnapilistauras', 'hdsi', 'flat', 'dental', 'vap1', 'interaction', 'trials', 'iraq', 'constitutes', 'letting', 'sun', 'entitlements', 'chelyabinsk', 'standardised', 'äñnekoski', 'files', 'interbancaria', 'horrible', 'telemig', 'photomsn', 'origin', 'patrik', 'suihko', 'httpchartlylgb94rr', 'beatriz', 'brewerton', 'sharing', 'seventh', 'til', 'confirmation', 'industrialsql', 'escalators', 'modernisation', 'oefirstalert', 'refuted', 'reorganizing', 'httpstksco2pa7', 'wonderful', 'oka', 'mhz', 'dates', 'reaffirmed', 'participation', 'killing', 'heindlmeyer', 'recording', 'pressures', 'everything', 'eur609m', 'forests', 'accomplishing', 'httpstcolgu0ybxeze', 'postal', 'stalk', 'sahlberg', 'mar', 'vnh', 'httpstkscog1f4t', 'andhra', 'cpps', 'gypsiipowered', 'bakery', 'derived', 'reng', 'probe', 'wwwmosmetroru', 'mulls', 'canadas', '3exbarclays', 'medically', 'onefamily', 'volotinen', 'ogden', 'downgrades', 'stricter', 'propeller', 'rubin', 'kraftheinz', 'igor', 'vitim', 'desk', 'microelectronic', 'click', 'crushing', 'bakosch', 'parquet', 'httpstcoquysrqfo2x', 'dinosaurs', 'ruutana', 'ues', 'httpstksco1g6x', 'proves', 'rap1v', 'huhtamñki', 'reaching', 'roadmap', 'boat', 'organize', 'colors', '3month', 'overseas', 'resolutions', 'correspondingly', 'setback', 'dans', 'neeeeds', 'agencies', 'projected', 'builder', 'weblogs', 'underutilisation', 'thereby', 'companieshome', 'eur59', 'birch', 'earlier', 'stake', 'almost', 'stock', 'million', 'real', 'orcl', 'httpstcojndphllzq5', 'canceled', 'services', 'announcement', 'elcoteq', 'se', 'contracts', 'anode', 'gansu', 'life', 'ahead', 'fresh', 'play', 'cost', 'apartments', 'welcome', 'nearly', 'financialwire', 'kaupthing', 'neutral', 'crowns', 'restructuring', 'costs', 'eps', 'every', 'trademark', 'still', 'magazine', 'recorded', 'domestic', 'totalled', 'gone', 'recent', 'iron', 'vips', 'beginning', 'mln', 'stora', 'employment', 'solutions', 'ew', 'celg', 'representing', 'worldwide', 'paper', 'eur3', 'age', 'range', 'today', 'changes', 'signed', 'largely', 'margin', 'japanese', 'aim', 'hold', 'danish', 'double', 'faces', 'outcome', 'calculated', 'drafted', 'unsecured', 'mediumterm', 'note', 'southern', '10mn', 'manufactures', 'various', 'industrial', 'applications', 'tool', 'allows', 'lay', 'receipt', 'key', 'aspo', 'advance', 'strengthening', 'applicant', 'tuomo', 'date', 'yards', 'break', 'great', 'confidence', 'secure', 'media', 'tyrvaan', 'workforce', 'implemented', 'headquarters', 'ilkka', 'hiidenheimo', 'communication', 'tlt1v', 'finnair', 'bman1', 'primed', 'facility', 'interconnection', 'sriperumbudur', 'chennai', 'sweepers', 'actors', 'need', 'asphalt', 'breaking', 'noticed', 'langs', 'couple', '30s', 'expanded', 'suspend', 'reorganisation', 'innova', 'paviljonki', 'main', 'lies', 'general', 'wider', 'mountain', 'surf', 'renewable', 'orkola', 'qqq', 'smh', 'networking', 'posts', 'builds', 'highly', 'indicated', 'nok', 'rise', 'nuan', 'thisits', 'enexis', 'proforma', 'inkinen', 'climbs', 'flexibility', 'might', 'shot', 'devices', 'early', 'introduce', 'wwwsampocom', 'behalf', '150share', 'pence', 'apartment', 'kauniskangas', 'international', 'hand', 'perlos', 'underperform', 'suv', 'uptodate', 'advertising', 'side', 'informed', 'trading', 'utah', 'wanted', 'old', 'emerging', 'acquires', 'owned', 'heikki', 'jeder', 'kostenlos', 'eigener', 'finale', 'biocare', 'addition', 'benefon', 'gps', 'approves', 'backlog', '54percent', 'annual', 'has80', 'excluding', 'email', 'capabilities', 'extend', 'raute', 'many', 'marketing', 'december', 'bae', 'safran', 'targeted', 'ixonos', 'considering', 'operator', 'oil', 'sells', 'bloomberg', 'tikanoja', 'eur30m', 'valmet', 'closing', 'residential', 'synergy', 'gas', 'content', 'aligned', 'salomon', 'wwwcargoteccom', 'invite', 'abp', 'implementation', 'approval', 'mapping', 'technologies', 'show', 'dongguan', 'pharmaceuticals', 'among', 'kai', 'triangle', 'breakdown', 'companiesfresnillo', 'launching', 'safety', 'food', 'developer', 'converted', 'sanoma', 'became', 'metsaliitto', 'ftse', 'ashtead', 'seppala', 'consolidation', 'highgrowth', 'arm', 'shanghai', 'httpstkscosiyn', 'williams', 'secured', 'complete', 'selection', 'makes', 'id', 'stateapproved', 'force', 'cencorp', 'appointed', 'kft', 'pcs', 'slightly', 'nand', 'everyones', 'bidders', 'efficient', 'creation', 'hfc', 'etth', 'experience', 'honkarakenne', 'raise', 'completed', 'conjunction', 'instrument', 'merrill', 'jukka', 'court', 'kim', 'existing', 'telecom', 'add', 'responsibilities', 'gilchrist', '14mn', 'lets', 'slow', 'eur150m', 'without', 'disclosing', 'street', 'property', 'india', 'publishes', 'employee', 'lithuania', 'hsc', 'eur15', 'digital', 'denies', 'talks', 'optimistically', 'budget', 'acquiring', 'control', 'finnishswedish', 'federal', 'wrong', 'profitable', 'protect', 'role', 'consolidating', 'maintains', 'rating', 'deployment', 'jim', 'httpstkscos0ny4', 'lse', 'caverion', 'currency', 'viewed', 'wwwcityconcom', 'carrying', 'estimation', 'rxii', 'keep', 'bio', 'divests', 'jorma', 'abroad', 'seems', 'investigators', 'sight', 'accident', 'return', 'universiti', 'àkersberga', 'participating', 'ball', 'rptold', 'branch', 'bearish', 'ninemonth', 'tyrvññn', 'authentication', 'swy', 'prior', 'upstream', 'standard', 'businesssummit', 'alexander', 'downward', 'interactive', 'mega', 'belarus', 'initiate', 'tagrisso', 'cidco', 'mln42', 'therapies', 'adult', 'retain', 'gmo', 'soy', 'nongmo', 'ending', 'discount', 'realtime', 'tielinja', 'vwap', 'ing', 'kasei', 'kone', 'aftermarket', 'consecutive', 'nps', 'becomes', 'bids', 'cachet', 'surging', 'momo', 'certified', 'recommendable', 'z', 'tariff', 'httpstksconfei', 'privately', 'weakened', 'treasurys', 'bioheapleaching', 'experts', 'terms', 'e', 'giant', 'perch', 'hotel', 'novotel', 'mtnoy', 'black', 'salcomp', 'thirdquarter', 'acquirer', 'schedules', 'bbry', 'elevators', 'kauppalehti', 'pavements', 'surface', 'lures', 'sanyo', 'sensex', 'liabilities', 'spring', 'tamglass', 'tim', 'track', 'broking', 'midmarket', 'pilot', 'homeware', 'eur230', 'rehu', 'leased', 'gasoline', 'specified', 'â', 'kantar', 'tlsn', 'publisher', 'wafer', 'sensor', 'assignment', 'upgrade', 'emergingmarkets', 'chinas', 'snow', 'seat', 'adjusting', 'surge', 'lot', 'lol', 'intended', 'wwwprothiouscom', 'attributed', 'saturation', 'iceland', 'troubled', 'trlpc', 'holcim', '3auto', 'equitybacked', 'almaty', 'dok', 'whether', 'seas', 'oasis', 'infection', 'worries', 'mud', 'vacuum', 'fluid', 'repurchases', 'kior', 'god', 'imagine', 'parties', 'propose', 'processing', 'qualitytastiness', 'àmñl', 'david', 'jarvenpaa', 'axp', 'liking', 'bochum', 'ulm', '2003style', 'venezuel', 'workshop', 'hollola', 'doubts', 'subjects', 'q2', 'kalinisky', 'reduction', 'contracted', 'simdax', 'wooden', 'interestbearing', '4mn', 'pouring', 'dirk', 'carrier', 'httpstksco1mir', 'features', 'eur860m', 'flashing', 'gettin', 'windows', 'cuttolength', 'directly', 'wall', 'steelmaker', 'mgkg', 'testing', 'train', 'thesecond', 'utility', 'wwwruukkicominvestors', 'technically', 'sek150', 'mso', 'create', 'blames', 'powerful', 'spark', 'creativity', 'eur3m', 'apiece', 'belttongroup', 'remains', 'rautalinko', 'affarsvarlden', 'kurkilahti', 'extending', 'independent', 'bernhard', 'please', 'legrand', 'compatriot', 'liquidations', 'apply', 'adjacent', 'shale', 'empresa', 'ecuador', 'urban', 'mass', 'rcon', 'thing', 'severe', 'float', 'written', 'kaivooja', 'finished', 'arabia', 'unlike', 'scandinavian', '1eu', 'asthma', 'quarterly', 'alise', 'outsourcing', 'leads', 'leisure', 'votorantim', 'vcp', 'biodiesel', 'singapore', 'info', 'thered', '50d', 'iterating', 'simulating', 'amsterdam', 'netherlands', 'instructional', 'inspection', 'believes', 'ac', 'left', 'matador', 'pro', 'chrome', 'pick', 'vesa', 'spin', 'hong', 'hampshire', 'cdti', 'bulls', 'adams', 'readymeal', 'dosing', 'bascule', 'foundations', 'brothers', 'rb', 'gbx12', 'popping', 'roof', 'underweight', 'op', 'pivo', 'grodno', 'rendered', 'allocation', 'pioneer', 'culture', '585us', 'require', 'customized', 'custom', 'precision', 'electriccar', 'hallbergivarsson', 'marks', 'huhtamaki', 'alpine', 'sending', 'kcr1v', 'innovation', 'hsea', 'ohio', 'bcs', 'pkc', 'constructive', 'spokesperson', 'behavioural', 'migration', 'fastjet', 'coz', 'functionality', 'idcc', 'crunching', 'crews', 'perspective', 'koduextra', 'fulfillment', '11c', 'wind', 'longpos', 'dma', 'hockey', 'demerger', 'oriola', 'stealing', 'fitness', 'wac', 'doprava', 'initiated', 'palfinger', 'gulf', 'spent', 'toilets', 'disappointing', 'herd', 'article', 'articles', 'prepares', 'proposals', 'detector', 'variety', 'eur27', 'kalajoki', 'bot', 'vary', 'httpstcotqmmt7n16x', 'experiences', 'immersive', 'graphics', 'merges', 'timetables', 'milestone', 'luxembourgregistered', 'castle', '432mn', 'concerned', 'clarity', 'petitions', 'bonds', 'contractor', 'leaps', 'gambling', 'addiction', 'cvs', 'podcast', 'someone', 'contextual', 'vaias', 'trees', 'activity', 'establishment', 'identification', 'fail', 'eur19', 'bark', 'chipped', 'nordstjernan', 'evidentiary', 'tinto', 'spike', 'carpark', 'noting', 'rank', 'eaten', 'depot', 'rsi', 'companieslse', 'cell', 'targeting', 'cnc1v', 'maggie', 'ramsey', 'suffered', 'respecta', 'pivotal', 'wwwpeigsse', 'sardus', 'heikkilñ', 'es', 'tambov', 'germanwings', 'ascs', 'kindle', 'votes', 'scientist', 'nsm', 'montaj', 'phillip', 'koistinen', 'additionally', 'eur80m', 'pensionable', 'modules', 'tarmo', 'elimaki', 'kallasvuo', 'shore', 'hydrocarbon', 'fuels', 'consist', 'imperial', 'a350', 'at8', 'eur20m', 'seller', 'heat', 'tripled', 'smelter', 'stay', 'faculty', 'reiterated', 'kengeter', 'packages', 'prefer', 'invoices', 'marked', 'warranty', 'petrofac', 'kaunas', 'mwe', 'blog', 'surcharges', 'deploy', 'romanian', 'jussi', 'strategies', 'demonstration', 'blackstone', 'undertaking', 'lookout', 'multiples', 'shortlisted', 'areva', 'hydro', 'rptl', 'hobby', 'periodend', 'haiti', 'maarten', 'unrivalled', 'httpstconlczawdohp', 'cannedpreserved', 'cpix', 'pull', 'qcor', 'standalone', 'faulty', 'puts', 'imho', 'galvan', 'anticipated', 'mediacityuk', 'sues', 'seppñlñ', 'expensive', 'tlcom', '150k', 'companiesdixons', 'britvic', 'pulling', '16b', 'cosco', 'cido', 'midsized', 'folded', 'categorization', 'report17', 'inaugurating', 'thirdparty', 'flange', 'gdf', 'martela', 'benecol', 'alholma', 'omitted', 'learn', 'voicedirected', '100m', '16mn', 'mcc', 'galeria', 'maximizes', 'campaign', 'appoints', 'jpmorgans', 'marta', 'cv', 'itonut', 'antonio', 'genesis', 'residence', 'kbkiwi', 'mkt', 'eur995', 'qingyuan', 'penny', 'rg', 'httpstcooa0loirijl', 'httpstcoycnclcbimv', 'sterv', 'eur598', 'vnoto74', 'stands', 'raahe', 'vr', 'suovaniemi', 'wellness', 'vacant', 'amplifier', 'turkcell', 'borrower', 'xlb', 'false', 'httpstkscodl1z', 'accrue', 'blue', 'acinvestorblog', 'kansas', 'poznan', 'pestka', 'fishy', 'dailymail', 'thoughts', '800dwt', 'stole', 'pinned', 'amgn', 'men', 'joe', 'wholesalers', 'sources', 'regions', 'centricity', 'mongolia', 'ergo', 'estimations', 'latch', 'helirvaldor', 'communicated', 'tightening', 'lampokasittely', 'boardroom', 'karttakeskus', 'rbff', 'pacts', 'itll', 'convergence', 'suomi', 'achievement', 'premarket', 'fit', 'importance', 'conviction', 'hansen', 'rspo', 'stx', 'button', 'width', 'cue', 'strawberryrhubarb', 'dovre', 'failing', 'divergence', 'slo', 'whos', 'hal', 'enuff', 'longstanding', 'eur106', 'reelection', 'httpstcoea4fbvuqgp', 'seek', 'tecnomens', 'satisfactorily', 'flurry', 'aberration', 'supreme', 'exxonmobil', 'effectiveness', 'riproaring', 'else', 'ennismore', 'simply', 'dx', 'species', 'archer', 'httpstco1fa6atoqlw', 'satisfied', 'quantity', 'timing', 'vnet', 'mpra', 'vix', 'hurting', 'airbaltic', 'knight', 'ponzi', 'newark', 'cliffton', 'resolution', 'sunrise', 'nearshore', 'timely', 'hosted', '10year', 'accomplish', 'southeastern', 'app', 'hunting', 'dnkn', 'dent', 'knows', 'cr', 'pollux654321', 'tuition', 'wastes', 'succeed', 'n73', 'n71', 'e70', 'e51', 'navigator', 'trained', 'osmium', 'northernmost', 'fcu', 'httpchartly6nosp5q', 'inaugural', 'hongmei', 'usd0', 'postponement', 'renn', 'lloydspharmacy', 'attached\n\n*** WARNING: max output size exceeded, skipping output. ***\n\nech', 'reducing', 'uptrend', 'integration', 'ebrd', 'berkshire', 'plan', 'companys', 'churned', 'liquefied', 'presentations', 'change', 'descending', 'casper', 'corresponds', 'lifecycle', 'medical', 'decided', 'image', 'offices', '10day', 'purchase', 'movement', 'theodosopoulos', 'seen', 'diageo', 'slide', 'va', 'grain', 'sparebank', 'sbgrp', 'haug', 'collection', 'adjustments', 'segments', 'httpstkscojrmw', 'brydon', 'baer', 'hightech', 'terminal', 'setv', 'coast', 'xdsl', 'celebrated', 'gap', 'friday', 'typhoon', 'regular', 'baltics', 'website', 'lows', 'sho', 'sihvo', 'material', 'upon', 'bookrunners', 'convertible', 'ruuska', 'dismissed', 'registration', 'named', 'henry', 'asian', 'grants', 'centrica', 'carbon', 'optimize', 'efficiencies', 'principally', 'inked', 'fight', 'runner', 'payroll', 'nationwide', 'cables', 'euronext', 'denmark', 'cumulative', 'showing', 'latvia', 'intel', 'open', 'frequency', '267mn', 'awarded', 'loyalty', 'chance', 'questions', 'channels', 'serco', 'roy', 'gardner', 'starwood', 'modem', 'renesas', 'sounds', 'pass', 'help', 'chambers', 'pressurized', 'dark', 'territory', 'lt', '53mn', 'alus', 'recommend', 'spokesman', 'poorest', 'biohit', 'httpstcolkld9mvkbq', 'fenestra', 'specialising', 'pop', 'ice', 'avista', 'united', 'peace', 'payment', 'damage', 'mt', 'manned', 'oneworld', 'contacted', 'bring', 'tang', 'bringing', 'dragging', 'rallies', 'stated', 'turnkey', 'rorocruise', 'endp', 'takeover', 'converting', 'ntsb', 'peugeot', 'malaysia', 'cbs', 'strongly', 'speeds', 'love', 'eur43', 'confirmed', 'poor', 'sslvpn', 'newstex', 'challenging', '2007a', 'traditional', 'chartered', 'beneficiaries', 'millhouse', 'decline', 'consisting', 'legal', 'charging', 'astrazenecas', 'insteel', 'infrastructures', 'addus', 'living', 'monday', 'expecting', 'failed', 'tyres', 'twelve', 'delayed', 'flsmidth', 'holders', 'australia', 'larox', 'etteplan', 'took', 'sixmonth', 'eur18', 'slashed', 'supermarket', 'industrialisation', 'freenet', 'tecnomen', 'lags', 'ryanair', 'estimate', 'httpstco9bj3csk2i9', 'tyre', 'jouko', 'blockchain', 'pivotable', 'rotation', 'kotikokki', 'peroni', 'beers', 'differ', 'crossovers', 'sal1v', 'euro120', 'hearing', 'philips', 'liability', 'norvestia', 'evidence', 'singer', 'stateowned', 'import', 'symbian', 'trim', 'companiestesco', 'bordeaux', 'southwestern', 'lemminkñinen', 'lithuanian', 'consider', '70mn', 'weaker', 'shifts', 'weighs', 'httpstcoodpran59xq', 'contrast', 'true', 'eur33m', 'gilligans', 'rationalize', 'medimmune', 'pulse', 'litas', 'oscar', 'employing', 'html', 'en', 'biggest', 'oct', 'shorter', 'lundberg', 'eur159', 'regulatory', 'significance', 'skf', 'hedge', 'depth', 'reversals', 'covers', 'wants', 'ta', 'tomorrow', 'apart', 'lsedeutsche', 'ignore', 'karara', 'stoppage', 'smiths', 'vale', 'micro', 'ml', 'swks', 'mandatory', 'httpstcotckqznmiqx', 'accuses', 'httpstkscog3a1', 'retained', 'eur17', 'eur1149', 'mildly', 'eur61', 'adopting', 'generation', '18000square', 'impacting', 'kapiteeli', 'night', 'authorisations', 'genuine', 'kuitunen', 'vmc', 'custody', 'eur30', 'chile', 'knowledge', 'baird', 'upgrades', 'foreign', 'dress', 'pc', 'eet', 'userdefined', 'feature', 'simple', 'degeneration', 'uncertainty', 'mixed', 'compass', 'administered', 'doses', 'tolerated', 'pharmacokinetic', 'consistent', 'intermittently', 'surmises', 'strengthen', 'textile', 'northrhine', 'transmission', 'appliance', 'module', 'progress', 'walter', 'render', 'desktop', 'consumption', 'slovakia', 'ya', 'story', 'timo', 'topic', 'km', 'speaker', 'stifel', 'rule', 'class', 'pipeline', 'shielding', 'httpstksco1qfg', 'upset', 'tvs', 'henrik', 'maijaliisa', 'past', 'impacted', 'drops', 'procurement', 'innovaruio', 'crossed', 'archived', 'cerner', 'ackman', 'imporvement', 'runup', 'vibe', 'touchscreen', 'able', 'underlying', 'elektrobit', 'euro735', 'margarine', 'lkab', 'guess', 'event', 'intertek', 'natlabs', 'kuzaj', 'aria', 'drives', 'indital', 'continental', 'utilise', 'turkey', 'respondents', 'janis', 'auditors', 'britain', 'george', 'dairy', 'multinational', 'storing', 'krakeroy', 'forestries', 'convenience', 'solo', 'teus', 'subcontractor', 'sappi', 'dahlstrâm', 'nonlife', 'expenses', 'featured', 'multiyear', 'carriers', 'rollon', 'viitasaari', 'vas', 'carl', 'lately', 'sinappi', 'arrive', 'strand', 'alabama', 'scotland', 'barc', 'eur93', 'performed', 'santos', 'scoring', 'legacy', 'ferguson', 'protection', 'implements', '2pricey', '3mn', 'bp', 'commissioner', 'gaining', 'combine', 'newly', 'airline', 'speed', 'lease', 'attributes', 'trailer', 'loss239', 'madison', 'garden', 'basketball', 'pack', 'piper', 'invitation', 'thieves', 'barley', 'precor', 'stavebni', 'sdm', 'governance', 'read', 'litter', 'originally', 'mode', 'suddenly', 'bluebird', 'reminder', 'tanks', 'jalo', 'dormus', 'meur', 'palmberg', 'replumbing', 'visibility', 'precipitation', 'slump', 'labels', 'sizing', 'erection', 'training', 'packs', 'compton', 'meiklejohn', 'rug1v', 'espoon', '50ma', 'att', 'kroons', 'httpstcosedqrwgdkt', 'peab', 'exclusive', 'dax', 'reenter', 'employeremployee', 'applying', 'fluctuated', 'publication', 'supermarkets', 'suffering', 'cessation', 'acquisitions', 'netflix', 'secondlargest', 'lenders', 'shb', 'holder', 'httpstkscot1boi', 'panamax', 'uniontown', 'mid2008', 'corrupt', 'financement', 'onemain', 'ald1v', '1bp', 'engadget', 'reiterates', 'opk', 'mñkelñ', 'chkp', 'abc', 'depository', 'kraft', 'generate', 'preparation', 'nugt', 'rana', 'aho', 'suitable', 'blending', 'airbus', 'healthier', 'spx', 'slumped', 'loader', 'jackson', 'ebusiness', 'morna', 'thirst', 'chambersburg', 'dopplr', 'conversions', 'nasdboy', 'search', 'comparative', 'penalties', 'mid2007', 'supervise', 'dialog', 'veda', 'unc', 'predict', 'skanssi', 'lei', 'mln1', 'anneli', 'janhonen', 'gw', 'fibertothehome', 'heavy', 'meatpacking', 'plnr', 'schultz', 'gambro', 'refurbishing', 'bathrooms', 'sewer', 'equivalents', 'fireplaces', 'administrative', 'islands', 'doomed', 'account', 'usercontrolled', 'finns', 'oesk', 'inter', 'kaleva', '18mn', 'hangasjarvi', 'toppy', 'reshape', 'lgpl', 'hitk', 'poors', 'randgold', 'robust', 'dohle', 'cc', 'eagle', 'httpstkscoq0wff', 'nonresponsive', 'responsibility', 'guatemala', 'prepaid', 'cdma', '19mn', 'ebay', '120meter', 'podlaska', 'httpstco24hqtqx4ou', 'dragonfly', 'scf1v', 'merge', 'brisk', 'mettlertoledo', 'karczewicz', 'attach', 'interims', 'elite', 'tameer', 'hospitals', 'nurseries', 'flexi', 'sumatra', 'pre', 'tomi', 'httpstkscoqsal', 'guangdong', 'eng', 'zaharova', 'altona', 'entitlement', 'introduced', 'syndicate', 'baked', 'sizes', 'delay', 'rebuff', 'roadshow', '1pearson', 'effluent', 'tackle', 'rlnordic', 'raiffeisenbankinggroup', 'limiting', 'ph3', 'floats', 'usmanov', 'svyazinvest', 'wahlroos', 'accepted', 'tietoenators', 'reluctant', 'northwest', 'httpstcoyejus9cmlc', 'tekmanni', 'betonituote', 'rs40', 'synonymous', 'tablet', 'thinks', 'agriculture', 'seeder', 'visit', 'asbuilt', 'heatmasters', 'parks', 'boaters', 'bno', 'sciard', 'tikkakoski', 'nord', 'pietiek', 'greatest', 'endowment', 'rebuilds', 'latvijas', 'configuration', 'boxboard', 'boots', 'applepear', 'critch', 'lodged', 'xle', 'threeday', 'tyrvñinen', 'toptronics', 'normark', 'rig', 'dalborg', 'criteria', 'extent', 'workforse', 'realized', 'httpstcojspuszo6na', 'cola', 'sure', 'occupies', 'jury', 'ryder', 'ie', 'txrh', 'improbe', 'remote', '4w', 'costanza', 'cdp', 'wynn', 'unusual', 'nikkei', 'hang', 'hintikka', 'westerlund', 'banken', 'specifying', 'anasmotet', 'e45', 'apparent', 'perttu', 'puro', 'hangin', '1click', 'snapback', 'inverters', 'httpstkscog0ls5', 'connections', 'mmh', 'coasters', 'converters', 'gran', 'wpp', 'worlds', 'manipulator', 'pride', 'stewart', 'politicians', 'sailed', 'unloader', 'coincident', 'restrictions', 'httpstcojdnzxdcmkl', 'powersupply', 'opus', 'extreme', 'hauling', 'saa1v', 'eur297', 'httpstkscor0ebn', 'massive', 'httpstkscop1v6p', '13bn', 'wilshire', 'emailed', 'lee', 'xns1v', 'daughters', 'blinkbox', 'connect', 'seismic', 'overcharging', 'irrevocable', 'n93n931', 'n92', 'n82', 'n80', 'e90', 'e60', 'e50', 'arvo', 'cu', 'breadth', 'changshu', 'dso1v', 'whereas', 'mississippi', 'mda', 'assumption', 'shoulders', 'rtch', 'skñne', 'newsroom', 'avenue', 'stefan', 'resurrect', 'outplacement', 'yesterdays', 'leak', 'prudentials', 'thiam', 'vinachem', 'sanitation', 'paijathame', 'trebles', '25cm', 'latvenergo', 'medium', 'lr', 'ipv6', 'eleven', '20ema', 'optimising', 'juhapekka', 'forging', 'intensifying', 'newsmorrisons', 'ondemand', 'mcd', 'qualified', 'kenneth', 'locomotive', 'child', 'indexes', 'facilitate', 'crossing', 'sitting', 'sidelines', 'uv', 'logical', 'aaltonen', 'liddell', 'nevertheless', 'ideal', '1nomura', 'bbh', '15bn', 'bracing', 'explores', 'therapeutics', 'wwwyitgroupcominvestors', 'nwc', 'usd12m', 'aspen', 'multimedia', 'hervy', 'rare', 'codenamed', 'saunalahti', 'extraction', 'fzc', 'fujairah', 'curators', 'schmardin', 'fivestar', 's1', 'quadriga', 'handled', 'maritim', 'aldi', 'sludge', 'sinking', 'splitscreen', 'hunt', 'httpstkscoboh4', 'merchants', 'beneath', 'undisturbed', 'nsr', 'megamart', 'atom', 'hu', 'resolve', '03c', 'httpstkscof2fgj', '52week', 'stiggoran', 'sandberg', 'tournament', 'norilsk', 'streaming', 'racked', 'sheryl', 'iptv', 'httpstkscoaw6z', 'umts', 'offtheshelf', 'accelerate', 'httpstkscotcse', 'actively', 'koulutuskuntayhtyma', 'karkkila', 'valkeakoski', 'reels', 'breakeven', 'newfound', 'city24', 'reuse', 'aks', 'tzoo', 'roll', 'jnug', 'kolkhoznitsa', 'melting', 'internationalizing', 'pietinalho', 'interchange', 'vijver', 'kyrolainen', 'tripolibased', 'kilograms', 'dumping', 'surprising', 'maintain', 'ál', 'bioview', 'weeklies', 'pâyry', 'usd6m', 'activision', 'towertop', '3q07', '1dairy', 'ilyin', 'rejoicing', 'suitor', 'qihu', 'longbow', 'boring', 'therein', 'renovation', 'moulding', 'challenges', 'groupe', 'intu', 'httpstkscoaktu', 'nitrogen', 'nitrates', 'asokan', 'luna', 'eberl', 'highestplaced', 'workday', 'hmi', 'broadcast', 'jaakko', 'backups', 'marriage', 'logistical', 'barrels', 'candidates', 'bottomline', 'revealed', '450k', 'johanna', 'koskinen', 'multifunctional', 'toll', 'backburner', 'httpstksco2zwe', 'spains', 'positioned', 'aal', 'httpstcotajf0ch2qh', 'terminations', 'multidiscipline', 'swiftly', 'bubble', 'adanac', 'thicker', 'pradesh', 'familyfun', 'oriented', 'valga', 'grill', 'subdued', 'kpy', 'housebuilder', 'biscuit', 'equal', 'indigo', 'repairs', 'underwritten', 'pedometers', 'prgn', 'valves', 'bottoming', 'overlapping', 'ils', 'electric', 'imrs', 'intermodal', 'lightweight', 'wwwiciscom', 'clerical', 'definitely', 'uwe', 'adobe', 'pressuring', 'slash', 'optimization', 'disk', 'ahvenainen', 'stateheld', 'ufa', 'acom', 'vetr', 'compnay', 'excellently', 'braking', 'entreprenor', 'preceding', 'nenonen', 'homeowners', 'vostochny', 'objectively', '10000odd', 'ephc', 'settle', 'alpro', 'heartburn', 'citing', 'vga', '763mn', 'practices', 'ubi', 'econ', 'greek', 'marubeni', 'emission', 'fancy', 'metsñliitto', '35s', 'zahariev', 'warn', 'mi', 'quarto', 'httpstcoyvydncdndi', 'henning', 'symantec', 'hire', 'httpstcomk7memtadt', 'net', 'eur131m', 'eur76m', 'finnishrussian', 'construction', 'taking', 'see', 'skepticism', 'communications', 'exchange', 'release', 'remain', 'total', 'problem', 'trails', 'goog', 'crm', 'subscribed', 'option', 'rights', 'delivered', 'friends', 'top', 'forecasts', 'stead', 'soft', 'drink', 'plans', 'unit', 'closed', 'turnover', 'retail', 'building', 'personal', 'artistic', 'dozens', 'royal', 'press', 'target', 'per', 'tsla', 'recalling', 'cnnbrk', 'marimekko', 'cover', 'usd', 'division', 'six', 'beer', 'augustoctober', 'systeemitiimi', 'tesco', 'q3', 'accordance', 'u', 'labor', 'representatives', 'government', 'find', 'stalwarts', 'resistance', 'bullish', 'cohen', 'capital', 'parts', 'amounted', 'second', 'sanctions', 'reduced', 'persons', 'oslo', 'web', 'properties', 'dealers', 'barrel', 'ebit', 'metso', 'jyvaskyla', 'discontinue', 'september', 'one', 'bottom', 'httpstkscotmu', 'proportion', 'estonia', 'oldage', 'lender', 'aktia', 'march', 'interrupted', 'cent', 'nastola', 'ms', 'associated', 'ownership', 'composites', 'nst', 'joint', 'highquality', 'upper', 'bb', 'reading', 'light', 'maximum', 'eaton', 'copenhagen', 'district', 'capitals', 'euro3', 'euro172', 'mikaapplication', '2424kolnp2008', 'application', 'small', 'president', 'suomen', 'held', 'stonesoft', 'report', 'machines', 'fb', 'broadband', 'eur4', 'eur416', 'proposal', 'ha', 'comes', 'complex', 'operational', 'itg', 'expected', 'mid2009', 'electronics', 'percentage', 'takes', 'ko', 'circuit', 'french', 'topped', 'consensus', 'loan', 'future', 'intends', 'cooperate', 'liquidated', 'jobs', 'fedday', 'uvxy', 'council', 'detailed', 'expects', 'walking', 'personnel', 'found', 'base', 'foot', 'videos', 'exploits', 'offer', 'customers', 'opening', 'mine', 'phosphate', 'ilmn', 'trends', 'users', 'derives', 'merged', 'successful', 'strategy', 'profitability', 'recovery', 'big', 'upside', 'split', 'jumped', 'favourably', 'marathon', 'stockdemons', 'enhances', 'device', 'voice', 'lnkd', 'principal', 'reuters', 'strike', 'together', 'health', 'yearó', 'succeeded', 'increasing', 'yit', 'januarymarch', 'ford', 'slowing', 'mail', 'venture', 'back', 'firstquarter', 'buoyed', 'bunge', 'carlshamn', 'laut', 'beeinflussen', 'adds', 'advanced', 'retailer', 'kesbv', 'received', 'meat', 'corrected', 'intellisync', 'enhance', 'five', 'operates', 'analysis', 'system', 'shrank', 'attack', 'come', 'majority', 'thailand', 'present', 'partner', 'supporting', 'ethanol', 'meur8', 'macd', 'kasak', 'rakverebased', 'elected', 'marketfinanced', 'pharma', 'difficult', 'vertex', 'hathaway', 'fund', '5th', 'wave', 'hammer', 'candle', 'degree', 'inclination', 'statements', 'publishing', 'visitors', 'wwwglassworldexcom', 'place', 'strengths', 'provided', 'geosolutions', 'mobilebased', 'computer', 'vessel', 'discuss', 'ilmarinen', 'eur108', 'diagnostics', 'basware', 'sweden', 'bitmapped', 'display', 'goals', 'russian', 'founders', 'tehtaat', 'gnrc', 'finding', 'could', 'nortel', 'given', 'volatility', 'concluded', 'petersburg', 'stanchart', 'deliver', 'gasfuelled', 'machinery', 'scraps', 'screen', 'function', 'pounds', 'bicentenary', 'member', 'inclusive', 'iittala', 'electronic', 'largerthanexpected', 'eur45m', 'owing', 'germany', 'directors', 'jarle', 'staffers', 'concentrate', 'eur7', 'mastered', 'lifts', 'extremely', 'eur259m', 'novator', 'serving', 'investing', 'final', 'diligence', 'finance', 'core', 'hornborg', 'criticised', 'currencies', 'encourage', 'releases', 'dips', 'samsung', 'httpstcodevnlkhqtz', 'expires', 'disagreement', 'progressed', 'unless', 'st1', 'less', 'outstanding', 'grapevine', 'industries', 'contribute', 'fortum', 'crane', '50mw', 'fears', 'newspapers', 'warning', 'american', 'chilled', 'maemo', 'arabian', '146mn', 'deposits', 'tulikivi', 'commencing', 'carmaker', 'example', 'study', 'ymi', 'httpstkscoxyf', 'expenditures', 'justified', 'pacific', 'metallurgical', 'horizon', 'renovate', 'paperboard', 'kicking', 'tza', 'environmentally', 'bbby', 'halonen', 'comment', '100mn150mn', 'persimmon', 'showroom', 'entirely', 'isnt', 'enough', 'httpstcoeqqltfuiou', 'rentalrelated', 'hrl', 'tank', 'association', 'russ', 'dont', 'permission', 'tons', 'trent', 'sh', 'lift', 'spend', 'oko', 'rumilly', 'deriving', 'fitzstock2004', 'iyt', 'flag', 'tallink', 'bidding', 'founder', 'file', 'message', 'element', 'citycon', 'view', 'allotted', 'examining', 'laws', 'eur10', 'v', 'platinum', 'tyrvään', 'depend', 'todays', 'allocated', 'versatile', 'barratt', 'finalized', 'egm', 'abramovich', 'height', 'inflation', 'minority', 'ongoing', 'powered', 'founded', 'meanwhile', 'allergen', 'employed', 'abb', 'laying', 'pori', 'eur127', 'consultation', 'gavin', 'cement', 'affect', 'extensive', 'patterns', '1970s', 'hm', 'scaling', 'frankfurt', 'hope', 'brasil', 'sahavaara', 'throughout', 'yearago', 'ntap', 'columbia', 'adac', 'casing', 'continuation', 'inbev', 'mainstream', 'activate', 'scan', 'fgl', 'twounit', 'olkiluoto', 'kilometres', 'inspires', 'changing', 'privacy', 'te', 'repaid', 'bearing', 'cartel', 'brussels', 'increases', 'eur98m', 'assessment', 'hamina', 'platts', 'uruguayan', 'bovine', 'whilst', 'brokerage', 'turning', 'eur39m', 'afterhour', 'explain', 'briefaviva', 'aims', 'island', 'thats', 'prothious', 'employs', 'detailing', 'schwalm', 'paatela', 'trainers', 'partnership', 'grew', 'crh', 'original', 'layoff', 'leap', 'fredrik', 'vvus', 'prompt', 'emphasised', 'httpstksco1kj9', '50mas', 'bed', 'recover', 'conciliator', 'fidelity', 'bãrse', 'grow', 'amazing', 'factored', 'ups', 'hillier', 'beside', 'hankomantsalaporvoo', 'direct', 'rail', 'nbl', 'dubai', 'plywood', 'lesprom', 'volatile', 'pohjola', 'motorcyclist', 'tex', 'ea', 'infringement', 'juniper', 'jnpr', 'gothenburg', 'western', 'intervention', 'hilton', 'weight', 'ashley', 'criticising', 'observed', 'stabilisation', 'ebitda', 'warsaw', 'client', 'gts', 'adopters', 'backhaul', 'infra', 'necessary', 'shift', 'styled', 'beckham', 'consent', 'rme', 'routes', 'multimodal', 'routing', 'colleagues', 'capcom', 'ngage', 'explained', 'detection', 'marko', 'fixedperiod', 'pirila', 'squeeze', 'westphalia', 'extended', 'fallen', 'achieve', 'ascending', 'converged', 'kingfisher', 'e36', 'gratuitous', 'glut', 'haha', 'lpbacked', 'po', 'dover', 'suistio', 'sought', 'commissioned', 'blocking', 'suisse', 'stiff', 'extraordinary', 'jmho', 'fcc', 'tap', 'invehicle', 'usd3', 'bore', 'argentine', 'calafate', 'platforms', 'applicable', 'sankyo', 'minerals', 'feasibility', 'je', 'drawn', 'provisional', 'httpstkscoe19h', 'havent', 'represented', 'lakshmi', 'furnaces', 'injectable', 'contribution', 'profiling', 'relocated', 'yliopistonrinne', 'wait', 'filed', 'mertano', 'bnamericas', 'manage', 'ebg1v', '2m', 'euro742', 'papel', 'want', 'peeling', 'chameleon', 'ideas', 'excess', 'correlation', 'separate', 'vacon', 'liquide', 'channelwill', 'finnishness', 'specialization', 'newlyformed', 'arbidans', 'removal', 'aln1v', 'monster', 'advertisements', 'eur683', 'é', 'nederland', 'sverige', 'brinkab', 'scaffolding', 'installations', 'imaging', 'secondary', 'recommendations', 'divest', 'requirement', 'automotive', '5sabmiller', 'ones', 'vanhanen', 'reporters', 'kentucky', 'caixabank', 'dos', 'angola', 'choice', 'stelios', 'advice', 'rpm', 'enterprises', 'forums', 'costefficiency', 'tulonen', 'middleeast', 'tape', 'phew', 'hanninen', 'diamond', 'peri', 'sliding', 'uranium', 'sense', 'lockheed', 'thursdays', 'sport', 'riga', 'thru', 'httpstksco163e', 'succeeds', 'bavaria', 'industriekapital', 'entertainment', 'determining', 'workout', 'rmr1v', 'committees', 'adsk', 'mortgages', 'ports', 'arts', 'shelters', 'nadu', 'exact', 'flagged', 'everyone', 'manages', 'sterling', 'nov', 'europeans', 'peat', 'antwerp', '2g', 'shareholding', 'everyday', 'eur20', 'morris', 'ia', 'impacts', 'scheme', 'restarts', 'bumping', '8ma', 'behind', 'foresees', 'bangkok', 'straddle', 'eur900', 'tampere', 'interactions', '3d', 'express', 'gtat', 'crown', 'datadriven', 'airports', 'hun', 'measuring', 'panostaja', 'httpstco8vxfuuit04', 'clinical', 'wwwsampocomir', 'hk', 'metre', 'dwa', 'pitprodukt', 'lowdown', 'gardening', 'vegetables', 'eln', 'longscongratsanother', 'counter', 'locks', 'lindex', 'missouri', 'carshipping', 'weigh', 'occupy', 'schapiro', 'leaked', 'firms', 'frequent', 'hasten', 'bargaining', 'foncier', 'appointments', 'headcount', 'refreshment', 'noncore', 'tasb', 'httpstkscocetw', 'portion', 'discussions', 'lightning', 'tase', 'joins', 'interference', 'noise', 'advised', 'tie', 'volkswagen', 'game', 'erkki', 'apparatus', 'teachers', 'reshuffled', 'iphone', 'gmt', 'hydrocarbons', 'ranging', 'faller', 'wmt', 'httpchartlyml857v3', '3year', 'resorts', 'adjust', 'dji', 'intc', 'httpstcowmy1pnomjf', 'meantime', 'logged', 'sevenmonth', 'emphasises', 'downside', 'tkk', 'heading', 'dojiknows', 'th', 'bes10', 'assessing', 'g4s', 'slides', 'outsourced', 'transfers', 'nevsky', 'railway', 'tunnel', 'jarvinen', 'hankkijamaatalous', 'companyóeur', 'httpstcoxdgraexkkz', 'helokunnas', 'belchatow', '565mw', 'decide', 'fireplace', 'clearing', 'hitachi', 'lifetree', 'europolitan', 'hall', 'hcp', 'basing', 'md', 'occupancy', 'proven', 'hopefully', 'commanding', 'turnbyturn', 'magney', '2nd', 'bvhealthcare', 'statutory', 'koreabased', 'pollution', 'automatically', 'resuming', 'historical', 'closer', 'bohemia', 'czechrepublic', 'quote', 'golden', 'cadburys', 'affects', 'ordered', 'swot', 'roce', 'cytx', 'httpstkscof26r4', '1400wow', 'taste', 'ease', 'evaluation', 'bulk', 'gsm', 'croda', 'eur75m', 'mursula', 'httpstksco15ur', 'amounting', 'sir', 'wwwglobesonlinecom', 'delhaize', 'wcdma', 'bali', 'laamanen', 'chic', 'geometric', 'ski', 'tulla', 'shops', 'claiming', 'euro26', 'seinajoki', 'sipponen', 'nsn', 'circuits', 'occupied', 'biscuits', 'weakest', 'easy', 'deducted', 'f', 'tweet', 'loaded', 'potato', 'opec', 'statecontrolled', 'neareast', 'combines', '20mn', 'hydrocopper', 'lemcon', 'betoni', 'disappear', 'tumkur', 'sakari', 'tamminen', 'counterpart', 'luumaki', 'companiesdiageo', 'alior', 'peterson', 'ssys', 'fixedtomobile', 'httpstkscod27qx', 'straight', 'httpstkscojkuf', 'hoped', 'eur12m', 'evasion', 'dnb', 'keeping', 'piece', 'jv', 'locked', 'toivola', 'meltdown', 'repeating', 'kiilto', 'hans', 'csx', 'ukraine', 'akseli', 'eoss', 'fibrebased', 'ahl1v', 'spunlace', 'river', 'labs', 'guinea', 'exceeded', 'disposal', '950mn1', 'snapper', 'sudden', 'mcdonalds', 'white', 'enclosed', 'skaarer', 'establishing', 'inches', 'tapio', 'ultra', 'surfaces', 'exterior', 'iisalmi', 'enskilda', 'baby', 'biv', 'kraski', 'mostly', 'decisions', 'thread', 'yesterdaylooking', 'bias', 'primetass', 'tire', 'ad', 'fingerfriendly', 'interface', 'laguardia', 'conducted', 'simonson', 'ilkkayhtymñ', 'assuming', 'war', 'interview', 'laurence', 'sufficient', 'collect', 'n958gb', 'n85', 'n78', 'n77', 'classic', 'paintshop', 'licence', 'jiang', 'pool', 'perpendiculars', 'draught', 'httpchartlyakvujxh', 'prohouse', 'ocn', 'tapiola', 'computerrelated', 'etc', 'eur35', 'resist', 'washing', 'klabin', 'onto', 'httpstco2cxahjix7d', 'eur177', 'handler', 'yy', 'pirelli', 'followon', 'collisions', 'feedschroders', 'inverted', 'signaled', 'vietnam', 'nuggets', 'bukoba', 'lake', 'virkkala', 'semiconductor', 'httpstcoj3uhts022m', 'productive', 'deep', 'scheck', 'mohammed', 'zain', 'assist', 'xfnasia', 'interavanti', 'cts', 'charter', 'voip', 'tailor', 'ive', 'focuses', 'telecomms', 'httpstcozmdg0fb3i7', 'vista', 'portfolios', 'nonperforming', 'contempus', 'traceyryniec', 'ddd', 'nalmefene', 'httpstkscoqzzx', 'osuuskauppa', 'tweeple', 'urls', 'rifd', 'olli', 'supervisor', 'programmatic', 'httpstcoz8g5czakeu', 'answer', 'caller', 'e72', 'lotus', 'loooooongggggg', 'sek6', 'anaesthetics', 'offerings', 'apac', 'unveil', 'sheets', 'upfront', 'emirate', 'iressa', 'developments', 'bto', 'varesvuo', 'hike', 'leaving', 'gyrating', 'auburn', 'surveillance', 'boni', 'intermediate', 'wig20', 'lloyds', 'divestments', 'witty', 'swirled', 'herttaassa', 'corroborate', 'dose', 'kitd', 'httpstco2wqqh35koy', 'implies', 'petersburgbased', 'royalties', 'flush', 'powerplant', 'savonlinna', '177mn', 'backdrop', 'tremendous', 'mezzanine', '29mn', 'byline', 'moran', 'originated', '1930s', 'imsm', 'grocery', 'einvoice', 'experimenting', 'satlan', 'softwarebased', 'savon', 'orhangazi', 'holy', 'travellers', 'military', 'ignatius', 'workflow', 'strapping', 'inge', 'sculptural', 'simultaneously', 'libyan', 'peltonen', 'heathrow', 'amd', 'cableway', 'settlement', 'universities', 'probability', 'stt', 'warrants', 'grupe', 'unibrew', 'hammaslaakarit', 'utilizing', 'bankruptcy', 'trumpets', 'swift', '600mn', 'reorganization', 'strip', 'rs310', 'lumene', 'lawmakers', 'downturns', 'fruit', 'modelling', 'shortableat', 'filling', 'pagamentos', 'cip', 'consolidates', 'syndicated', 'petri', 'foundry', 'exxon', 'crk', 'httpstcodr5banun2u', 'nadarajah', 'advisors', 'recari', 'shooting', 'ingredient', 'contain', 'sandbagged', 'wonderware', 'investrend', 'e7', 'vicepresident', 'rnn', 'antniemi', 'liljeholmen', 'didnt', 'httpstkscod0rhf', 'dyax', 'mikko', 'gibtelecom', 'lñnsikalkkuna', 'fierce', 'pulls', 'yearly', 'hlf', 'inregard', 'dispels', 'ietf', 'meats', 'friend', 'ray', 'rpk', 'fgvoip', 'mrkt', 'washout', 'ibb', 'clearer', 'ukonaho', 'repo', 'vizag', 'khopoli', 'chime', 'shish', 'differs', 'bridges', 'magnetic', 'brewers', 'luxury', 'outdoor', 'ukmerge', 'limits', 'explosively', 'effort', 'allonen', '36m', 'moluballoy', 'minute', 'suspect', 'mikron', 'exporter', 'indicates', 'failings', 'nvda', 'privatisation', 'drying', 'hassela', 'incentive', 'stateoftheart', 'wx', 'fremantlemedia', 'mww', 'qualities', 'barstow', 'httpstcottm9rnfoxj', 'pcb', 'affordable', 'tco', 'httpstco5pr4cbtvvy', '825mn', 'wtc', 'lunch', 'westend', 'twofold', 'invenergy', '1bhp', 'ostroleka', 'hails', 'promo', 'leif', 'resume', 'rallied', 'httpstcozwhthsvfsf', 'bodies', 'boomeranger']\n\n"
     ]
    }
   ],
   "source": [
    "#3b. For each word we will calculate the conditional probability for each class\n",
    "\n",
    "# To do this we first have to make a vocabulary of the words we have:\n",
    "vocabulary_rdd = training_rdd.flatMap(lambda x: x[0]).distinct()\n",
    "\n",
    "# Step 4: Collect the vocabulary\n",
    "print(vocabulary_rdd.collect())\n",
    "print(\"\")\n",
    "\n",
    "# -----for positive class-----\n",
    "# Map Step: Extract words from the first part of the tuple where the second tuple element is \"positive\"\n",
    "positive_words_rdd = training_rdd.filter(lambda x: x[1] == 'positive').flatMap(lambda x: x[0])\n",
    "\n",
    "# Count the frequency of each word\n",
    "positive_words_count_rdd = positive_words_rdd.map(lambda word: (word, 1)).reduceByKey(lambda a, b: a + b)\n",
    "\n",
    "# Count the number of words in the positive class\n",
    "positive_words_count = positive_words_count_rdd.count()\n",
    "\n",
    "# Collect the words from positive class into dict\n",
    "positive_words_class_dict = positive_words_count_rdd.collectAsMap()\n",
    "\n",
    "\n",
    "# -----for negative class-----\n",
    "# Map Step: Extract words from the first part of the tuple where the second tuple element is \"negative\"\n",
    "negative_words_rdd = training_rdd.filter(lambda x: x[1] == 'negative').flatMap(lambda x: x[0])\n",
    "\n",
    "# Count the frequency of each word\n",
    "negative_words_count_rdd = negative_words_rdd.map(lambda word: (word, 1)).reduceByKey(lambda a, b: a + b)\n",
    "\n",
    "# Count the number of words in the negative class\n",
    "negative_words_count = negative_words_count_rdd.count()\n",
    "\n",
    "# Collect the words from negative class into dict\n",
    "negative_words_class_dict = negative_words_count_rdd.collectAsMap()\n",
    "\n",
    "\n",
    "# -----for neutral class-----\n",
    "# Map Step: Extract words from the first part of the tuple where the second tuple element is \"neutral\"\n",
    "neutral_words_rdd = training_rdd.filter(lambda x: x[1] == 'neutral').flatMap(lambda x: x[0])\n",
    "\n",
    "# Count the frequency of each word\n",
    "neutral_words_count_rdd = neutral_words_rdd.map(lambda word: (word, 1)).reduceByKey(lambda a, b: a + b)\n",
    "\n",
    "# Count the number of words in the neutral class\n",
    "neutral_words_count = neutral_words_count_rdd.count()\n",
    "\n",
    "# Collect the words from neutral class into dict\n",
    "neutral_words_class_dict = neutral_words_count_rdd.collectAsMap()\n"
   ]
  },
  {
   "cell_type": "code",
   "execution_count": 0,
   "metadata": {
    "application/vnd.databricks.v1+cell": {
     "cellMetadata": {
      "byteLimit": 2048000,
      "rowLimit": 10000
     },
     "inputWidgets": {},
     "nuid": "edeb2795-2fdb-42de-99b8-8a123066245b",
     "showTitle": false,
     "title": ""
    }
   },
   "outputs": [],
   "source": [
    "# 3c. Calculate conditional probability for all words in the vocabulary (for all classes positive, negative, and neutral)\n",
    "\n",
    "# ----- naive bayes with laplace-----\n",
    "size_of_vocab = vocabulary_rdd.count()\n",
    "\n",
    "# Calculate conditional probability\n",
    "def conditional_probability(word, class_label, alpha = 1):\n",
    "  if class_label == \"positive\":\n",
    "    class_dict = positive_words_class_dict\n",
    "    class_words_count = positive_words_count\n",
    "  elif class_label == \"negative\":\n",
    "    class_dict = negative_words_class_dict\n",
    "    class_words_count = negative_words_count\n",
    "  elif class_label == \"neutral\":\n",
    "    class_dict = neutral_words_class_dict\n",
    "    class_words_count = neutral_words_count\n",
    "\n",
    "  if word in class_dict:\n",
    "    conditional_probability = (class_dict[word] + alpha) / (class_words_count + alpha * size_of_vocab)\n",
    "  else:\n",
    "    conditional_probability = alpha / (class_words_count + alpha * size_of_vocab)\n",
    "\n",
    "  return (word, conditional_probability)\n",
    "\n",
    "# -----Calculate Positive Conditional Probabilities------\n",
    "positive_cond_prob_rdd = vocabulary_rdd.map(lambda x: conditional_probability(x, \"positive\"))\n",
    "positive_cond_prob_dict = positive_cond_prob_rdd.collectAsMap()\n",
    "\n",
    "# -----Calculate Negative Conditional Probabilities------\n",
    "negative_cond_prob_rdd = vocabulary_rdd.map(lambda x: conditional_probability(x, \"negative\"))\n",
    "negative_cond_prob_dict = negative_cond_prob_rdd.collectAsMap()\n",
    "\n",
    "# -----Calculate Neutral Conditional Probabilities------\n",
    "neutral_cond_prob_rdd = vocabulary_rdd.map(lambda x: conditional_probability(x, \"neutral\"))\n",
    "neutral_cond_prob_dict = neutral_cond_prob_rdd.collectAsMap()\n"
   ]
  },
  {
   "cell_type": "code",
   "execution_count": 0,
   "metadata": {
    "application/vnd.databricks.v1+cell": {
     "cellMetadata": {
      "byteLimit": 2048000,
      "rowLimit": 10000
     },
     "inputWidgets": {},
     "nuid": "0c91b3d6-3864-4d56-8c75-73653f3315ec",
     "showTitle": false,
     "title": ""
    }
   },
   "outputs": [],
   "source": [
    "#4. Testing the model: Use the trained model to classify the documents in the testing set and evaluate the performance of the model.\n",
    "\n",
    "# ----- naive bayes with laplace-----\n",
    "\n",
    "def test_sentence(sentence, alpha = 1):\n",
    "  positive_posterior_probability = 1\n",
    "  negative_posterior_probability = 1\n",
    "  neutral_posterior_probability = 1\n",
    "\n",
    "  for word in sentence:\n",
    "    # Positive probability\n",
    "    if word in positive_cond_prob_dict:\n",
    "      positive_posterior_probability *= positive_cond_prob_dict[word]\n",
    "    else:\n",
    "      positive_posterior_probability *= alpha / (positive_words_count + alpha * size_of_vocab)\n",
    "\n",
    "    # Negative probability\n",
    "    if word in negative_cond_prob_dict:\n",
    "      negative_posterior_probability *= negative_cond_prob_dict[word]\n",
    "    else:\n",
    "      negative_posterior_probability *= alpha / (negative_words_count + alpha * size_of_vocab)\n",
    "\n",
    "    # Neutral probability\n",
    "    if word in neutral_cond_prob_dict:\n",
    "      neutral_posterior_probability *= neutral_cond_prob_dict[word]\n",
    "    else:\n",
    "      neutral_posterior_probability *= alpha / (neutral_words_count + alpha * size_of_vocab)\n",
    "\n",
    "  # multiply each by prior\n",
    "  positive_posterior_probability *= positive_class_prior\n",
    "  negative_posterior_probability *= negative_class_prior\n",
    "  neutral_posterior_probability *= neutral_class_prior\n",
    "\n",
    "  if positive_posterior_probability > negative_posterior_probability and positive_posterior_probability > neutral_posterior_probability:\n",
    "    return \"positive\"\n",
    "  elif negative_posterior_probability > positive_posterior_probability and negative_posterior_probability > neutral_posterior_probability:\n",
    "    return \"negative\"\n",
    "  else:\n",
    "    return \"neutral\"\n",
    "\n",
    "\n",
    "test_predictions_rdd = testing_rdd.map(lambda x: (x[0], x[1], test_sentence(x[0])))\n"
   ]
  },
  {
   "cell_type": "code",
   "execution_count": 0,
   "metadata": {
    "application/vnd.databricks.v1+cell": {
     "cellMetadata": {
      "byteLimit": 2048000,
      "rowLimit": 10000
     },
     "inputWidgets": {},
     "nuid": "ce3d3508-a037-4de7-b58a-33c06349f5a1",
     "showTitle": false,
     "title": ""
    }
   },
   "outputs": [
    {
     "output_type": "display_data",
     "data": {
      "text/html": [
       "<div>\n",
       "<style scoped>\n",
       "    .dataframe tbody tr th:only-of-type {\n",
       "        vertical-align: middle;\n",
       "    }\n",
       "\n",
       "    .dataframe tbody tr th {\n",
       "        vertical-align: top;\n",
       "    }\n",
       "\n",
       "    .dataframe thead th {\n",
       "        text-align: right;\n",
       "    }\n",
       "</style>\n",
       "<table border=\"1\" class=\"dataframe\">\n",
       "  <thead>\n",
       "    <tr style=\"text-align: right;\">\n",
       "      <th></th>\n",
       "      <th>positive_class_prior</th>\n",
       "      <th>negative_class_prior</th>\n",
       "      <th>neutral_class_prior</th>\n",
       "    </tr>\n",
       "  </thead>\n",
       "  <tbody>\n",
       "    <tr>\n",
       "      <th>0</th>\n",
       "      <td>0.315329</td>\n",
       "      <td>0.538215</td>\n",
       "      <td>0.146456</td>\n",
       "    </tr>\n",
       "  </tbody>\n",
       "</table>\n",
       "</div>"
      ]
     },
     "metadata": {
      "application/vnd.databricks.v1+output": {
       "addedWidgets": {},
       "arguments": {},
       "data": "<div>\n<style scoped>\n    .dataframe tbody tr th:only-of-type {\n        vertical-align: middle;\n    }\n\n    .dataframe tbody tr th {\n        vertical-align: top;\n    }\n\n    .dataframe thead th {\n        text-align: right;\n    }\n</style>\n<table border=\"1\" class=\"dataframe\">\n  <thead>\n    <tr style=\"text-align: right;\">\n      <th></th>\n      <th>positive_class_prior</th>\n      <th>negative_class_prior</th>\n      <th>neutral_class_prior</th>\n    </tr>\n  </thead>\n  <tbody>\n    <tr>\n      <th>0</th>\n      <td>0.315329</td>\n      <td>0.538215</td>\n      <td>0.146456</td>\n    </tr>\n  </tbody>\n</table>\n</div>",
       "datasetInfos": [],
       "metadata": {},
       "removedWidgets": [],
       "textData": null,
       "type": "htmlSandbox"
      }
     },
     "output_type": "display_data"
    }
   ],
   "source": [
    "class_priors = [(positive_class_prior, negative_class_prior, neutral_class_prior)]\n",
    "\n",
    "# Create a Pandas DataFrame\n",
    "class_priors_df = pd.DataFrame(class_priors, columns=[\"positive_class_prior\", \"negative_class_prior\", \"neutral_class_prior\"])\n",
    "\n",
    "class_priors_df"
   ]
  },
  {
   "cell_type": "code",
   "execution_count": 0,
   "metadata": {
    "application/vnd.databricks.v1+cell": {
     "cellMetadata": {
      "byteLimit": 2048000,
      "rowLimit": 10000
     },
     "inputWidgets": {},
     "nuid": "adcd389c-b08f-420a-96dc-40559ad86b87",
     "showTitle": false,
     "title": ""
    }
   },
   "outputs": [
    {
     "output_type": "display_data",
     "data": {
      "text/html": [
       "<div>\n",
       "<style scoped>\n",
       "    .dataframe tbody tr th:only-of-type {\n",
       "        vertical-align: middle;\n",
       "    }\n",
       "\n",
       "    .dataframe tbody tr th {\n",
       "        vertical-align: top;\n",
       "    }\n",
       "\n",
       "    .dataframe thead th {\n",
       "        text-align: right;\n",
       "    }\n",
       "</style>\n",
       "<table border=\"1\" class=\"dataframe\">\n",
       "  <thead>\n",
       "    <tr style=\"text-align: right;\">\n",
       "      <th></th>\n",
       "      <th>Sentence (Features)</th>\n",
       "      <th>Actual</th>\n",
       "      <th>Prediction</th>\n",
       "    </tr>\n",
       "  </thead>\n",
       "  <tbody>\n",
       "    <tr>\n",
       "      <th>0</th>\n",
       "      <td>[geosolutions, technology, leverage, benefon, gps, solutions, providing, location, based, search, technology, communities, platform, location, relevant, multimedia, content, new, powerful, commercial, model]</td>\n",
       "      <td>positive</td>\n",
       "      <td>neutral</td>\n",
       "    </tr>\n",
       "    <tr>\n",
       "      <th>1</th>\n",
       "      <td>[esi, lows, bk, real, possibility]</td>\n",
       "      <td>negative</td>\n",
       "      <td>positive</td>\n",
       "    </tr>\n",
       "    <tr>\n",
       "      <th>2</th>\n",
       "      <td>[kone, net, sales, rose, yearonyear, first, nine, months]</td>\n",
       "      <td>positive</td>\n",
       "      <td>positive</td>\n",
       "    </tr>\n",
       "    <tr>\n",
       "      <th>3</th>\n",
       "      <td>[circulation, revenue, increased, finland, sweden]</td>\n",
       "      <td>positive</td>\n",
       "      <td>positive</td>\n",
       "    </tr>\n",
       "    <tr>\n",
       "      <th>4</th>\n",
       "      <td>[fb, gone, green, day]</td>\n",
       "      <td>positive</td>\n",
       "      <td>positive</td>\n",
       "    </tr>\n",
       "    <tr>\n",
       "      <th>...</th>\n",
       "      <td>...</td>\n",
       "      <td>...</td>\n",
       "      <td>...</td>\n",
       "    </tr>\n",
       "    <tr>\n",
       "      <th>1153</th>\n",
       "      <td>[cern, consolidating, nice, long, entry, w, stop, targeting, area]</td>\n",
       "      <td>positive</td>\n",
       "      <td>positive</td>\n",
       "    </tr>\n",
       "    <tr>\n",
       "      <th>1154</th>\n",
       "      <td>[pay, 2nd, time, test, bo, zone, still, breaking, moved, stop]</td>\n",
       "      <td>neutral</td>\n",
       "      <td>positive</td>\n",
       "    </tr>\n",
       "    <tr>\n",
       "      <th>1155</th>\n",
       "      <td>[therefore, phase, iii, research, conducted, abbott]</td>\n",
       "      <td>neutral</td>\n",
       "      <td>neutral</td>\n",
       "    </tr>\n",
       "    <tr>\n",
       "      <th>1156</th>\n",
       "      <td>[newly, formed, company, yit, stavo, local, contact, network, expertise, market, know, euro, stavokonsult, combined, yit, housing, concept, said, juha, kostiainen, yit, vice, president, corporate, communications, business, development]</td>\n",
       "      <td>positive</td>\n",
       "      <td>neutral</td>\n",
       "    </tr>\n",
       "    <tr>\n",
       "      <th>1157</th>\n",
       "      <td>[swedish, finnish, danish, listed, companies, organized, three, market, cap, segments, nordic, large, cap, mid, cap, small, cap]</td>\n",
       "      <td>neutral</td>\n",
       "      <td>neutral</td>\n",
       "    </tr>\n",
       "  </tbody>\n",
       "</table>\n",
       "<p>1158 rows × 3 columns</p>\n",
       "</div>"
      ]
     },
     "metadata": {
      "application/vnd.databricks.v1+output": {
       "addedWidgets": {},
       "arguments": {},
       "data": "<div>\n<style scoped>\n    .dataframe tbody tr th:only-of-type {\n        vertical-align: middle;\n    }\n\n    .dataframe tbody tr th {\n        vertical-align: top;\n    }\n\n    .dataframe thead th {\n        text-align: right;\n    }\n</style>\n<table border=\"1\" class=\"dataframe\">\n  <thead>\n    <tr style=\"text-align: right;\">\n      <th></th>\n      <th>Sentence (Features)</th>\n      <th>Actual</th>\n      <th>Prediction</th>\n    </tr>\n  </thead>\n  <tbody>\n    <tr>\n      <th>0</th>\n      <td>[geosolutions, technology, leverage, benefon, gps, solutions, providing, location, based, search, technology, communities, platform, location, relevant, multimedia, content, new, powerful, commercial, model]</td>\n      <td>positive</td>\n      <td>neutral</td>\n    </tr>\n    <tr>\n      <th>1</th>\n      <td>[esi, lows, bk, real, possibility]</td>\n      <td>negative</td>\n      <td>positive</td>\n    </tr>\n    <tr>\n      <th>2</th>\n      <td>[kone, net, sales, rose, yearonyear, first, nine, months]</td>\n      <td>positive</td>\n      <td>positive</td>\n    </tr>\n    <tr>\n      <th>3</th>\n      <td>[circulation, revenue, increased, finland, sweden]</td>\n      <td>positive</td>\n      <td>positive</td>\n    </tr>\n    <tr>\n      <th>4</th>\n      <td>[fb, gone, green, day]</td>\n      <td>positive</td>\n      <td>positive</td>\n    </tr>\n    <tr>\n      <th>...</th>\n      <td>...</td>\n      <td>...</td>\n      <td>...</td>\n    </tr>\n    <tr>\n      <th>1153</th>\n      <td>[cern, consolidating, nice, long, entry, w, stop, targeting, area]</td>\n      <td>positive</td>\n      <td>positive</td>\n    </tr>\n    <tr>\n      <th>1154</th>\n      <td>[pay, 2nd, time, test, bo, zone, still, breaking, moved, stop]</td>\n      <td>neutral</td>\n      <td>positive</td>\n    </tr>\n    <tr>\n      <th>1155</th>\n      <td>[therefore, phase, iii, research, conducted, abbott]</td>\n      <td>neutral</td>\n      <td>neutral</td>\n    </tr>\n    <tr>\n      <th>1156</th>\n      <td>[newly, formed, company, yit, stavo, local, contact, network, expertise, market, know, euro, stavokonsult, combined, yit, housing, concept, said, juha, kostiainen, yit, vice, president, corporate, communications, business, development]</td>\n      <td>positive</td>\n      <td>neutral</td>\n    </tr>\n    <tr>\n      <th>1157</th>\n      <td>[swedish, finnish, danish, listed, companies, organized, three, market, cap, segments, nordic, large, cap, mid, cap, small, cap]</td>\n      <td>neutral</td>\n      <td>neutral</td>\n    </tr>\n  </tbody>\n</table>\n<p>1158 rows × 3 columns</p>\n</div>",
       "datasetInfos": [],
       "metadata": {},
       "removedWidgets": [],
       "textData": null,
       "type": "htmlSandbox"
      }
     },
     "output_type": "display_data"
    }
   ],
   "source": [
    "# Convert RDD to DataFrame\n",
    "# Collect the data from the RDD\n",
    "test_predictions_collected = test_predictions_rdd.collect()\n",
    "\n",
    "# Create a Pandas DataFrame\n",
    "test_predictions_df = pd.DataFrame(test_predictions_collected, columns=[\"Sentence (Features)\", \"Actual\", \"Prediction\"])\n",
    "\n",
    "test_predictions_df"
   ]
  },
  {
   "cell_type": "code",
   "execution_count": 0,
   "metadata": {
    "application/vnd.databricks.v1+cell": {
     "cellMetadata": {
      "byteLimit": 2048000,
      "rowLimit": 10000
     },
     "inputWidgets": {},
     "nuid": "d80cd596-71de-4e84-89fa-27f5937d901e",
     "showTitle": false,
     "title": ""
    }
   },
   "outputs": [
    {
     "output_type": "stream",
     "name": "stdout",
     "output_type": "stream",
     "text": [
      "Accuracy: 0.6606217616580311\n"
     ]
    }
   ],
   "source": [
    "# Count the number of correctly classified documents\n",
    "correct_predictions = test_predictions_rdd.filter(lambda x: x[1] == x[2]).count()\n",
    "\n",
    "# Calculate total number of documents\n",
    "total_predictions = test_predictions_rdd.count()\n",
    "\n",
    "# Calculate accuracy\n",
    "accuracy = correct_predictions / total_predictions\n",
    "\n",
    "print(\"Accuracy:\", accuracy)"
   ]
  }
 ],
 "metadata": {
  "application/vnd.databricks.v1+notebook": {
   "dashboards": [],
   "environmentMetadata": null,
   "language": "python",
   "notebookMetadata": {
    "pythonIndentUnit": 4
   },
   "notebookName": "assignment 2 part 2",
   "widgets": {}
  }
 },
 "nbformat": 4,
 "nbformat_minor": 0
}
